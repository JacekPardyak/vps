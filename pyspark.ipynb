{
  "nbformat": 4,
  "nbformat_minor": 0,
  "metadata": {
    "colab": {
      "name": "pyspark.ipynb",
      "provenance": [],
      "collapsed_sections": [],
      "authorship_tag": "ABX9TyOi0cvslGlpzZ3uCT6z5HwK",
      "include_colab_link": true
    },
    "kernelspec": {
      "name": "python3",
      "display_name": "Python 3"
    },
    "language_info": {
      "name": "python"
    }
  },
  "cells": [
    {
      "cell_type": "markdown",
      "metadata": {
        "id": "view-in-github",
        "colab_type": "text"
      },
      "source": [
        "<a href=\"https://colab.research.google.com/github/JacekPardyak/vps/blob/master/pyspark.ipynb\" target=\"_parent\"><img src=\"https://colab.research.google.com/assets/colab-badge.svg\" alt=\"Open In Colab\"/></a>"
      ]
    },
    {
      "cell_type": "code",
      "metadata": {
        "id": "rQt4-37wG8ju"
      },
      "source": [
        "!apt-get install openjdk-8-jdk-headless -qq > /dev/null"
      ],
      "execution_count": 1,
      "outputs": []
    },
    {
      "cell_type": "code",
      "metadata": {
        "id": "WHLcrzLXNhyQ"
      },
      "source": [
        "!wget -q https://downloads.apache.org/spark/spark-3.1.2/spark-3.1.2-bin-hadoop2.7.tgz\n",
        "!tar xf spark-3.1.2-bin-hadoop2.7.tgz"
      ],
      "execution_count": 2,
      "outputs": []
    },
    {
      "cell_type": "code",
      "metadata": {
        "id": "s86WFR18Nl5u"
      },
      "source": [
        "import os\n",
        "os.environ[\"JAVA_HOME\"] = \"/usr/lib/jvm/java-8-openjdk-amd64\"\n",
        "os.environ[\"SPARK_HOME\"] = \"/content/spark-3.1.2-bin-hadoop2.7\""
      ],
      "execution_count": 3,
      "outputs": []
    },
    {
      "cell_type": "code",
      "metadata": {
        "id": "ExwuKFzuJe8r"
      },
      "source": [
        "!pip install -q findspark\n",
        "import findspark\n",
        "findspark.init()"
      ],
      "execution_count": 4,
      "outputs": []
    },
    {
      "cell_type": "code",
      "metadata": {
        "id": "fMUxs2U9JkhS"
      },
      "source": [
        "from pyspark.sql import SparkSession\n",
        "spark = SparkSession.builder\\\n",
        "        .master(\"local\")\\\n",
        "        .appName(\"Colab\")\\\n",
        "        .config('spark.ui.port', '4050')\\\n",
        "        .getOrCreate()"
      ],
      "execution_count": 5,
      "outputs": []
    },
    {
      "cell_type": "code",
      "metadata": {
        "colab": {
          "base_uri": "https://localhost:8080/"
        },
        "id": "Dfmp6-MsWkWW",
        "outputId": "0fbf077b-102e-4444-a4a4-63cf32c51566"
      },
      "source": [
        "!wget --continue https://raw.githubusercontent.com/JacekPardyak/vps/master/data/vps_churn_data_py.json -O /tmp/vps_churn_data_py.json\n",
        "!wget --continue https://raw.githubusercontent.com/JacekPardyak/vps/master/data/vps_test_data_py.json -O /tmp/vps_test_data_py.json"
      ],
      "execution_count": 6,
      "outputs": [
        {
          "output_type": "stream",
          "name": "stdout",
          "text": [
            "--2021-09-04 21:24:57--  https://raw.githubusercontent.com/JacekPardyak/vps/master/data/vps_churn_data_py.json\n",
            "Resolving raw.githubusercontent.com (raw.githubusercontent.com)... 185.199.108.133, 185.199.109.133, 185.199.110.133, ...\n",
            "Connecting to raw.githubusercontent.com (raw.githubusercontent.com)|185.199.108.133|:443... connected.\n",
            "HTTP request sent, awaiting response... 416 Range Not Satisfiable\n",
            "\n",
            "    The file is already fully retrieved; nothing to do.\n",
            "\n",
            "--2021-09-04 21:24:57--  https://raw.githubusercontent.com/JacekPardyak/vps/master/data/vps_test_data_py.json\n",
            "Resolving raw.githubusercontent.com (raw.githubusercontent.com)... 185.199.108.133, 185.199.109.133, 185.199.110.133, ...\n",
            "Connecting to raw.githubusercontent.com (raw.githubusercontent.com)|185.199.108.133|:443... connected.\n",
            "HTTP request sent, awaiting response... 416 Range Not Satisfiable\n",
            "\n",
            "    The file is already fully retrieved; nothing to do.\n",
            "\n"
          ]
        }
      ]
    },
    {
      "cell_type": "code",
      "metadata": {
        "id": "IMEf6eJVRVbU"
      },
      "source": [
        "vps = spark.read.json(\"/tmp/vps_churn_data_py.json\")\n",
        "pro = spark.read.json(\"/tmp/vps_test_data_py.json\")\n"
      ],
      "execution_count": 7,
      "outputs": []
    },
    {
      "cell_type": "code",
      "metadata": {
        "colab": {
          "base_uri": "https://localhost:8080/"
        },
        "id": "Y0jxYTuORh_Z",
        "outputId": "52060542-5ec6-469a-f070-67bc21b3c5ee"
      },
      "source": [
        "vps.printSchema()"
      ],
      "execution_count": 8,
      "outputs": [
        {
          "output_type": "stream",
          "name": "stdout",
          "text": [
            "root\n",
            " |-- cpu_load_max_gradient: double (nullable = true)\n",
            " |-- cpu_load_mean_m_3: double (nullable = true)\n",
            " |-- cpu_load_monthly_mean_delta: double (nullable = true)\n",
            " |-- disk_octets_read_max_gradient: double (nullable = true)\n",
            " |-- disk_octets_read_mean_m_3: double (nullable = true)\n",
            " |-- disk_octets_read_monthly_mean_delta: double (nullable = true)\n",
            " |-- disk_octets_write_max_gradient: double (nullable = true)\n",
            " |-- disk_octets_write_mean_m_3: double (nullable = true)\n",
            " |-- disk_octets_write_monthly_mean_delta: double (nullable = true)\n",
            " |-- disk_ops_read_max_gradient: double (nullable = true)\n",
            " |-- disk_ops_read_mean_m_3: double (nullable = true)\n",
            " |-- disk_ops_read_monthly_mean_delta: double (nullable = true)\n",
            " |-- disk_ops_write_max_gradient: double (nullable = true)\n",
            " |-- disk_ops_write_mean_m_3: double (nullable = true)\n",
            " |-- disk_ops_write_monthly_mean_delta: double (nullable = true)\n",
            " |-- id: long (nullable = true)\n",
            " |-- is_churn: long (nullable = true)\n",
            " |-- network_rx_max_gradient: double (nullable = true)\n",
            " |-- network_rx_mean_m_3: double (nullable = true)\n",
            " |-- network_rx_monthly_mean_delta: double (nullable = true)\n",
            " |-- network_tx_max_gradient: double (nullable = true)\n",
            " |-- network_tx_mean_m_3: double (nullable = true)\n",
            " |-- network_tx_monthly_mean_delta: double (nullable = true)\n",
            "\n"
          ]
        }
      ]
    },
    {
      "cell_type": "code",
      "metadata": {
        "colab": {
          "base_uri": "https://localhost:8080/"
        },
        "id": "83mBu0ZfR0NL",
        "outputId": "a8ce79fd-2d7c-429e-8964-5bb02ccf7bad"
      },
      "source": [
        "vps.show(4,False)"
      ],
      "execution_count": 9,
      "outputs": [
        {
          "output_type": "stream",
          "name": "stdout",
          "text": [
            "+---------------------+-----------------+---------------------------+-----------------------------+-------------------------+-----------------------------------+------------------------------+--------------------------+------------------------------------+--------------------------+----------------------+--------------------------------+---------------------------+-----------------------+---------------------------------+---+--------+-----------------------+-------------------+-----------------------------+-----------------------+-------------------+-----------------------------+\n",
            "|cpu_load_max_gradient|cpu_load_mean_m_3|cpu_load_monthly_mean_delta|disk_octets_read_max_gradient|disk_octets_read_mean_m_3|disk_octets_read_monthly_mean_delta|disk_octets_write_max_gradient|disk_octets_write_mean_m_3|disk_octets_write_monthly_mean_delta|disk_ops_read_max_gradient|disk_ops_read_mean_m_3|disk_ops_read_monthly_mean_delta|disk_ops_write_max_gradient|disk_ops_write_mean_m_3|disk_ops_write_monthly_mean_delta|id |is_churn|network_rx_max_gradient|network_rx_mean_m_3|network_rx_monthly_mean_delta|network_tx_max_gradient|network_tx_mean_m_3|network_tx_monthly_mean_delta|\n",
            "+---------------------+-----------------+---------------------------+-----------------------------+-------------------------+-----------------------------------+------------------------------+--------------------------+------------------------------------+--------------------------+----------------------+--------------------------------+---------------------------+-----------------------+---------------------------------+---+--------+-----------------------+-------------------+-----------------------------+-----------------------+-------------------+-----------------------------+\n",
            "|0.44565168           |13.37989247      |9.93544803                 |1.74435668                   |38.82583205              |38.59628038                        |0.00463981                    |0.11851402                |0.09822835                          |14.46249656               |336.6972043           |331.6849821                     |0.22755614                 |6.77032258             |5.18743369                       |100|1       |-3.44E-5               |0.01612843         |-8.3925E-4                   |5.59E-5                |0.01171808         |0.001784                     |\n",
            "|-0.00172695          |16.90204301      |-3.97190143                |-5.9626E-4                   |0.00328473               |-0.01781286                        |-6.43E-5                      |0.33609133                |-7.0227E-4                          |-0.00633933               |0.08150538            |-0.18960574                     |-0.00207351                |2.7939785              |0.16231183                       |101|0       |9.5E-5                 |0.04812798         |0.00761928                   |-0.00434225            |0.44380426         |-0.1490684                   |\n",
            "|0.3733529            |248.935914       |9.67491398                 |-0.01865949                  |19.37152776              |-0.53592374                        |-0.07624555                   |31.9710273                |-2.3433956                          |-0.16357924               |213.1603226           |-22.40323297                    |-0.44157712                |194.5582796            |-26.08083154                     |102|0       |-0.02173184            |1.72831136         |-0.3315117                   |-0.00538242            |1.35480347         |-0.1905986                   |\n",
            "|-0.03158981          |14.05419355      |-0.86152867                |-0.00180007                  |0.10182502               |-0.0723567                         |0.00328335                    |0.99700527                |0.05448654                          |-0.20777508               |2.18870968            |-7.24773477                     |0.01796263                 |9.63483871             |-0.05549462                      |103|1       |7.1597E-4              |0.08254686         |-4.014E-4                    |-3.1719E-4             |0.00850134         |-0.0071339                   |\n",
            "+---------------------+-----------------+---------------------------+-----------------------------+-------------------------+-----------------------------------+------------------------------+--------------------------+------------------------------------+--------------------------+----------------------+--------------------------------+---------------------------+-----------------------+---------------------------------+---+--------+-----------------------+-------------------+-----------------------------+-----------------------+-------------------+-----------------------------+\n",
            "only showing top 4 rows\n",
            "\n"
          ]
        }
      ]
    },
    {
      "cell_type": "code",
      "metadata": {
        "colab": {
          "base_uri": "https://localhost:8080/"
        },
        "id": "_6UJ9OOBboTk",
        "outputId": "8c6d4914-3925-44e3-b481-2d704c7a464f"
      },
      "source": [
        "vps.count()"
      ],
      "execution_count": 10,
      "outputs": [
        {
          "output_type": "execute_result",
          "data": {
            "text/plain": [
              "283"
            ]
          },
          "metadata": {},
          "execution_count": 10
        }
      ]
    },
    {
      "cell_type": "code",
      "metadata": {
        "colab": {
          "base_uri": "https://localhost:8080/"
        },
        "id": "gvNX3MVzbqfr",
        "outputId": "490b2011-eb1a-4148-c8ae-e4c8f7a90be5"
      },
      "source": [
        "vps.select('id', 'cpu_load_max_gradient', 'is_churn').show(5)"
      ],
      "execution_count": 11,
      "outputs": [
        {
          "output_type": "stream",
          "name": "stdout",
          "text": [
            "+---+---------------------+--------+\n",
            "| id|cpu_load_max_gradient|is_churn|\n",
            "+---+---------------------+--------+\n",
            "|100|           0.44565168|       1|\n",
            "|101|          -0.00172695|       0|\n",
            "|102|            0.3733529|       0|\n",
            "|103|          -0.03158981|       1|\n",
            "|104|          -0.09440948|       0|\n",
            "+---+---------------------+--------+\n",
            "only showing top 5 rows\n",
            "\n"
          ]
        }
      ]
    },
    {
      "cell_type": "code",
      "metadata": {
        "colab": {
          "base_uri": "https://localhost:8080/"
        },
        "id": "HwT3W2ONlHrL",
        "outputId": "2dcfd06e-0909-4e2c-dcf0-5f2a2f794603"
      },
      "source": [
        "vps.describe().show()"
      ],
      "execution_count": 12,
      "outputs": [
        {
          "output_type": "stream",
          "name": "stdout",
          "text": [
            "+-------+---------------------+------------------+---------------------------+-----------------------------+-------------------------+-----------------------------------+------------------------------+--------------------------+------------------------------------+--------------------------+----------------------+--------------------------------+---------------------------+-----------------------+---------------------------------+----------------+-------------------+-----------------------+-------------------+-----------------------------+-----------------------+-------------------+-----------------------------+\n",
            "|summary|cpu_load_max_gradient| cpu_load_mean_m_3|cpu_load_monthly_mean_delta|disk_octets_read_max_gradient|disk_octets_read_mean_m_3|disk_octets_read_monthly_mean_delta|disk_octets_write_max_gradient|disk_octets_write_mean_m_3|disk_octets_write_monthly_mean_delta|disk_ops_read_max_gradient|disk_ops_read_mean_m_3|disk_ops_read_monthly_mean_delta|disk_ops_write_max_gradient|disk_ops_write_mean_m_3|disk_ops_write_monthly_mean_delta|              id|           is_churn|network_rx_max_gradient|network_rx_mean_m_3|network_rx_monthly_mean_delta|network_tx_max_gradient|network_tx_mean_m_3|network_tx_monthly_mean_delta|\n",
            "+-------+---------------------+------------------+---------------------------+-----------------------------+-------------------------+-----------------------------------+------------------------------+--------------------------+------------------------------------+--------------------------+----------------------+--------------------------------+---------------------------+-----------------------+---------------------------------+----------------+-------------------+-----------------------+-------------------+-----------------------------+-----------------------+-------------------+-----------------------------+\n",
            "|  count|                  283|               283|                        283|                          283|                      283|                                283|                           283|                       283|                                 283|                       283|                   283|                             283|                        283|                    283|                              283|             283|                283|                    283|                283|                          283|                    283|                283|                          283|\n",
            "|   mean|  1.24596855123676E-4|31.532199961484135|        0.17523533070671377|         0.002203108657243...|        6.103057868021202|                -0.1269000366784452|          0.003296707561837...|        3.2482532237809183|                 0.11363889653710241|      -0.00978500063604...|     187.5425116809895|             -1.8511734372084712|       -0.14703686579505307|       59.6534869091166|               -4.961824043003535|           241.0|0.47703180212014135|   -0.00343744869257...| 2.7290456916961134|         -0.05126309830388...|   -0.00102782547703...|  4.584761931130742|         -0.03133791770318025|\n",
            "| stddev|  0.24475061547643515|32.296579981628405|          7.991129002256648|          0.16207581336472918|       16.044128079008498|                  5.063862099706966|           0.05064115594132543|         8.587143619158269|                  1.7201972508572718|         4.789129157892171|     374.0281681925936|              157.03651033205335|          3.341701797961703|     167.21873090248843|               109.08152866133744|81.8392733757251| 0.5003569885654795|    0.11010137172692981| 14.933229680946992|            4.143658023620392|    0.07287264748568904|  22.96713435699938|            1.868966606767961|\n",
            "|    min|          -2.69165098|         0.3488172|               -95.38515412|                  -1.02459822|                      0.0|                       -33.50033608|                   -0.28679904|                       0.0|                         -9.15267903|              -59.82482337|                   0.0|                    -2061.212753|                -50.3657192|                    0.0|                     -1688.275473|             100|                  0|            -1.58767151|                0.0|                  -56.3485376|            -0.40090297|                0.0|                 -10.46746121|\n",
            "|    max|            0.8901865|        248.935914|                24.67246953|                   1.74435668|              185.3403464|                        38.59628038|                    0.54836924|               113.3632711|                         17.10998272|                18.8080795|           3062.752688|                     700.8823405|                 6.42798995|            2100.975806|                      162.8555054|             382|                  1|             0.68593923|        192.0666602|                  22.03268573|             0.67600645|        309.0257287|                  13.87213047|\n",
            "+-------+---------------------+------------------+---------------------------+-----------------------------+-------------------------+-----------------------------------+------------------------------+--------------------------+------------------------------------+--------------------------+----------------------+--------------------------------+---------------------------+-----------------------+---------------------------------+----------------+-------------------+-----------------------+-------------------+-----------------------------+-----------------------+-------------------+-----------------------------+\n",
            "\n"
          ]
        }
      ]
    },
    {
      "cell_type": "code",
      "metadata": {
        "colab": {
          "base_uri": "https://localhost:8080/"
        },
        "id": "PyXgU6dxb-jJ",
        "outputId": "f968ed2e-f754-4127-c28b-711905e563cb"
      },
      "source": [
        "vps.select(\"is_churn\").distinct().show()"
      ],
      "execution_count": 13,
      "outputs": [
        {
          "output_type": "stream",
          "name": "stdout",
          "text": [
            "+--------+\n",
            "|is_churn|\n",
            "+--------+\n",
            "|       0|\n",
            "|       1|\n",
            "+--------+\n",
            "\n"
          ]
        }
      ]
    },
    {
      "cell_type": "code",
      "metadata": {
        "colab": {
          "base_uri": "https://localhost:8080/"
        },
        "id": "7ON-aZxYcH5R",
        "outputId": "d96dcbc7-eeb4-4ca3-9a1e-0e6bc7741c54"
      },
      "source": [
        "from pyspark.sql import functions as F\n",
        "vps.groupBy(\"is_churn\").agg(F.avg(\"cpu_load_mean_m_3\")).show()"
      ],
      "execution_count": 15,
      "outputs": [
        {
          "output_type": "stream",
          "name": "stdout",
          "text": [
            "+--------+----------------------+\n",
            "|is_churn|avg(cpu_load_mean_m_3)|\n",
            "+--------+----------------------+\n",
            "|       0|     34.67781949229732|\n",
            "|       1|    28.083668920296297|\n",
            "+--------+----------------------+\n",
            "\n"
          ]
        }
      ]
    },
    {
      "cell_type": "code",
      "metadata": {
        "id": "n3Rm6d0lcPZ5"
      },
      "source": [
        "from pyspark.ml import Pipeline\n",
        "from pyspark.ml.classification import RandomForestClassifier\n",
        "from pyspark.ml.feature import IndexToString, StringIndexer, VectorIndexer\n",
        "from pyspark.ml.evaluation import MulticlassClassificationEvaluator\n",
        "\n"
      ],
      "execution_count": 16,
      "outputs": []
    },
    {
      "cell_type": "code",
      "metadata": {
        "colab": {
          "base_uri": "https://localhost:8080/"
        },
        "id": "DMbDl3Hvnv-g",
        "outputId": "e8673647-e824-4bd9-b5b3-3aa368b5a536"
      },
      "source": [
        "data = spark.read.format(\"libsvm\").load(\"/content/spark-3.1.2-bin-hadoop2.7/data/mllib/sample_lda_libsvm_data.txt\")\n",
        "data.printSchema()"
      ],
      "execution_count": 17,
      "outputs": [
        {
          "output_type": "stream",
          "name": "stdout",
          "text": [
            "root\n",
            " |-- label: double (nullable = true)\n",
            " |-- features: vector (nullable = true)\n",
            "\n"
          ]
        }
      ]
    },
    {
      "cell_type": "code",
      "metadata": {
        "colab": {
          "base_uri": "https://localhost:8080/"
        },
        "id": "yXMDI8-uobPB",
        "outputId": "83ed097f-014e-42fb-ece8-0eebe628473f"
      },
      "source": [
        "data.describe().show()"
      ],
      "execution_count": 85,
      "outputs": [
        {
          "output_type": "stream",
          "name": "stdout",
          "text": [
            "+-------+-----------------+\n",
            "|summary|            label|\n",
            "+-------+-----------------+\n",
            "|  count|               12|\n",
            "|   mean|              5.5|\n",
            "| stddev|3.605551275463989|\n",
            "|    min|              0.0|\n",
            "|    max|             11.0|\n",
            "+-------+-----------------+\n",
            "\n"
          ]
        }
      ]
    },
    {
      "cell_type": "code",
      "metadata": {
        "colab": {
          "base_uri": "https://localhost:8080/"
        },
        "id": "WwxHqaGdo1qO",
        "outputId": "5885b299-68e4-4e04-b7c7-1b6c0f17aa89"
      },
      "source": [
        "# Index labels, adding metadata to the label column.\n",
        "# Fit on whole dataset to include all labels in index.\n",
        "labelIndexer = StringIndexer(inputCol=\"label\", outputCol=\"indexedLabel\").fit(data)\n",
        "\n",
        "# Automatically identify categorical features, and index them.\n",
        "# Set maxCategories so features with > 4 distinct values are treated as continuous.\n",
        "featureIndexer =\\\n",
        "    VectorIndexer(inputCol=\"features\", outputCol=\"indexedFeatures\", maxCategories=4).fit(data)\n",
        "\n",
        "# Split the data into training and test sets (30% held out for testing)\n",
        "(trainingData, testData) = data.randomSplit([0.7, 0.3])\n",
        "\n",
        "# Train a RandomForest model.\n",
        "rf = RandomForestClassifier(labelCol=\"indexedLabel\", featuresCol=\"indexedFeatures\", numTrees=10)\n",
        "\n",
        "# Convert indexed labels back to original labels.\n",
        "labelConverter = IndexToString(inputCol=\"prediction\", outputCol=\"predictedLabel\",\n",
        "                               labels=labelIndexer.labels)\n",
        "\n",
        "# Chain indexers and forest in a Pipeline\n",
        "pipeline = Pipeline(stages=[labelIndexer, featureIndexer, rf, labelConverter])\n",
        "\n",
        "# Train model.  This also runs the indexers.\n",
        "model = pipeline.fit(trainingData)\n",
        "\n",
        "# Make predictions.\n",
        "predictions = model.transform(testData)\n",
        "\n",
        "# Select example rows to display.\n",
        "predictions.select(\"predictedLabel\", \"label\", \"features\").show(5)\n",
        "\n",
        "# Select (prediction, true label) and compute test error\n",
        "evaluator = MulticlassClassificationEvaluator(\n",
        "    labelCol=\"indexedLabel\", predictionCol=\"prediction\", metricName=\"accuracy\")\n",
        "accuracy = evaluator.evaluate(predictions)\n",
        "print(\"Test Error = %g\" % (1.0 - accuracy))\n",
        "\n",
        "rfModel = model.stages[2]\n",
        "print(rfModel)  # summary only"
      ],
      "execution_count": 86,
      "outputs": [
        {
          "output_type": "stream",
          "name": "stdout",
          "text": [
            "+--------------+-----+--------------------+\n",
            "|predictedLabel|label|            features|\n",
            "+--------------+-----+--------------------+\n",
            "|           7.0|  2.0|(11,[0,1,2,5,6,8,...|\n",
            "|           6.0|  3.0|(11,[0,1,3,6,8,9,...|\n",
            "|           8.0|  5.0|(11,[0,1,3,4,5,6,...|\n",
            "|           7.0| 10.0|(11,[0,1,2,3,5,6,...|\n",
            "|           8.0| 11.0|(11,[0,1,4,5,6,7,...|\n",
            "+--------------+-----+--------------------+\n",
            "\n",
            "Test Error = 1\n",
            "RandomForestClassificationModel: uid=RandomForestClassifier_047bf96574f7, numTrees=10, numClasses=12, numFeatures=11\n"
          ]
        }
      ]
    },
    {
      "cell_type": "code",
      "metadata": {
        "id": "9cQhzfXsmsRJ"
      },
      "source": [
        "# Load and parse the data file, converting it to a DataFrame.\n",
        "data = vps\n",
        "\n",
        "# Index labels, adding metadata to the label column.\n",
        "# Fit on whole dataset to include all labels in index.\n",
        "# labelIndexer = StringIndexer(inputCol=\"label\", outputCol=\"indexedLabel\").fit(data)\n",
        "\n",
        "# Automatically identify categorical features, and index them.\n",
        "# Set maxCategories so features with > 4 distinct values are treated as continuous.\n",
        "# featureIndexer =\\\n",
        "#    VectorIndexer(inputCol=\"features\", outputCol=\"indexedFeatures\", maxCategories=4).fit(data)\n",
        "# Split the data into training and test sets (30% held out for testing)\n",
        "(trainingData, testData) = data.randomSplit([0.7, 0.3])\n",
        "\n"
      ],
      "execution_count": 81,
      "outputs": []
    },
    {
      "cell_type": "code",
      "metadata": {
        "colab": {
          "base_uri": "https://localhost:8080/"
        },
        "id": "NIifTnglqSpc",
        "outputId": "432a9517-55f0-4abc-a397-6e9abb678dfd"
      },
      "source": [
        "from pyspark.ml.classification import LogisticRegression\n",
        "\n",
        "# Load training data\n",
        "training = spark.read.format(\"libsvm\").load(\"/content/spark-3.1.2-bin-hadoop2.7/data/mllib/sample_libsvm_data.txt\")\n",
        "\n",
        "lr = LogisticRegression(maxIter=10, regParam=0.3, elasticNetParam=0.8)\n",
        "\n",
        "# Fit the model\n",
        "lrModel = lr.fit(training)\n",
        "\n",
        "# Print the coefficients and intercept for logistic regression\n",
        "print(\"Coefficients: \" + str(lrModel.coefficients))\n",
        "print(\"Intercept: \" + str(lrModel.intercept))\n",
        "\n",
        "# We can also use the multinomial family for binary classification\n",
        "mlr = LogisticRegression(maxIter=10, regParam=0.3, elasticNetParam=0.8, family=\"multinomial\")\n",
        "\n",
        "# Fit the model\n",
        "mlrModel = mlr.fit(training)\n",
        "\n",
        "# Print the coefficients and intercepts for logistic regression with multinomial family\n",
        "print(\"Multinomial coefficients: \" + str(mlrModel.coefficientMatrix))\n",
        "print(\"Multinomial intercepts: \" + str(mlrModel.interceptVector))"
      ],
      "execution_count": 18,
      "outputs": [
        {
          "output_type": "stream",
          "name": "stdout",
          "text": [
            "Coefficients: (692,[244,263,272,300,301,328,350,351,378,379,405,406,407,428,433,434,455,456,461,462,483,484,489,490,496,511,512,517,539,540,568],[-7.353983524188241e-05,-9.102738505589566e-05,-0.0001946743054690423,-0.00020300642473486603,-3.147618331486458e-05,-6.842977602660821e-05,1.5883626898236275e-05,1.4023497091368928e-05,0.0003543204752496838,0.00011443272898171099,0.00010016712383666487,0.0006014109303795511,0.0002840248179122765,-0.00011541084736508905,0.000385996886312906,0.0006350195574241097,-0.00011506412384575733,-0.0001527186586498689,0.0002804933808994214,0.0006070117471191665,-0.0002008459663247435,-0.00014210755792901347,0.0002739010341160883,0.0002773045624496811,-9.838027027269408e-05,-0.00038085224435175833,-0.00025315198008554285,0.0002774771477075434,-0.00024436197639191286,-0.0015394744687597679,-0.00023073328411330604])\n",
            "Intercept: 0.22456315961250245\n",
            "Multinomial coefficients: 2 X 692 CSRMatrix\n",
            "(0,244) 0.0\n",
            "(0,263) 0.0001\n",
            "(0,272) 0.0001\n",
            "(0,300) 0.0001\n",
            "(0,350) -0.0\n",
            "(0,351) -0.0\n",
            "(0,378) -0.0\n",
            "(0,379) -0.0\n",
            "(0,405) -0.0\n",
            "(0,406) -0.0006\n",
            "(0,407) -0.0001\n",
            "(0,428) 0.0001\n",
            "(0,433) -0.0\n",
            "(0,434) -0.0007\n",
            "(0,455) 0.0001\n",
            "(0,456) 0.0001\n",
            "..\n",
            "..\n",
            "Multinomial intercepts: [-0.12065879445860596,0.12065879445860596]\n"
          ]
        }
      ]
    }
  ]
}