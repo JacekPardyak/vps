{
  "nbformat": 4,
  "nbformat_minor": 0,
  "metadata": {
    "colab": {
      "name": "pyspark.ipynb",
      "provenance": [],
      "authorship_tag": "ABX9TyOSi7cAsCVhJcrCV3/ox9xm",
      "include_colab_link": true
    },
    "kernelspec": {
      "name": "python3",
      "display_name": "Python 3"
    },
    "language_info": {
      "name": "python"
    }
  },
  "cells": [
    {
      "cell_type": "markdown",
      "metadata": {
        "id": "view-in-github",
        "colab_type": "text"
      },
      "source": [
        "<a href=\"https://colab.research.google.com/github/JacekPardyak/vps/blob/master/pyspark.ipynb\" target=\"_parent\"><img src=\"https://colab.research.google.com/assets/colab-badge.svg\" alt=\"Open In Colab\"/></a>"
      ]
    },
    {
      "cell_type": "code",
      "metadata": {
        "colab": {
          "base_uri": "https://localhost:8080/"
        },
        "id": "6OAp37fVGhm2",
        "outputId": "786c0f10-e597-4a2e-add2-19434f59f6b4"
      },
      "source": [
        "from google.colab import drive\n",
        "drive.mount('/content/drive')"
      ],
      "execution_count": 9,
      "outputs": [
        {
          "output_type": "stream",
          "name": "stdout",
          "text": [
            "Drive already mounted at /content/drive; to attempt to forcibly remount, call drive.mount(\"/content/drive\", force_remount=True).\n"
          ]
        }
      ]
    },
    {
      "cell_type": "code",
      "metadata": {
        "id": "rQt4-37wG8ju"
      },
      "source": [
        "!apt-get install openjdk-8-jdk-headless -qq > /dev/null"
      ],
      "execution_count": 14,
      "outputs": []
    },
    {
      "cell_type": "code",
      "metadata": {
        "id": "WHLcrzLXNhyQ"
      },
      "source": [
        "!wget -q https://downloads.apache.org/spark/spark-3.1.2/spark-3.1.2-bin-hadoop2.7.tgz\n",
        "!tar xf spark-3.1.2-bin-hadoop2.7.tgz"
      ],
      "execution_count": 19,
      "outputs": []
    },
    {
      "cell_type": "code",
      "metadata": {
        "id": "s86WFR18Nl5u"
      },
      "source": [
        "import os\n",
        "os.environ[\"JAVA_HOME\"] = \"/usr/lib/jvm/java-8-openjdk-amd64\"\n",
        "os.environ[\"SPARK_HOME\"] = \"/content/spark-3.1.2-bin-hadoop2.7\""
      ],
      "execution_count": 26,
      "outputs": []
    },
    {
      "cell_type": "code",
      "metadata": {
        "id": "ExwuKFzuJe8r"
      },
      "source": [
        "!pip install -q findspark\n",
        "import findspark\n",
        "findspark.init()"
      ],
      "execution_count": 27,
      "outputs": []
    },
    {
      "cell_type": "code",
      "metadata": {
        "id": "fMUxs2U9JkhS"
      },
      "source": [
        "from pyspark.sql import SparkSession\n",
        "spark = SparkSession.builder\\\n",
        "        .master(\"local\")\\\n",
        "        .appName(\"Colab\")\\\n",
        "        .config('spark.ui.port', '4050')\\\n",
        "        .getOrCreate()"
      ],
      "execution_count": 28,
      "outputs": []
    },
    {
      "cell_type": "code",
      "metadata": {
        "colab": {
          "base_uri": "https://localhost:8080/"
        },
        "id": "iEGOGI9GJrgR",
        "outputId": "9a3c7992-4cf6-4590-946e-f30d032a015b"
      },
      "source": [
        "!wget --continue https://raw.githubusercontent.com/GarvitArya/pyspark-demo/main/sample_books.json -O /tmp/sample_books.json"
      ],
      "execution_count": 29,
      "outputs": [
        {
          "output_type": "stream",
          "name": "stdout",
          "text": [
            "--2021-09-04 19:24:43--  https://raw.githubusercontent.com/GarvitArya/pyspark-demo/main/sample_books.json\n",
            "Resolving raw.githubusercontent.com (raw.githubusercontent.com)... 185.199.110.133, 185.199.109.133, 185.199.111.133, ...\n",
            "Connecting to raw.githubusercontent.com (raw.githubusercontent.com)|185.199.110.133|:443... connected.\n",
            "HTTP request sent, awaiting response... 200 OK\n",
            "Length: 1565 (1.5K) [text/plain]\n",
            "Saving to: ‘/tmp/sample_books.json’\n",
            "\n",
            "\r/tmp/sample_books.j   0%[                    ]       0  --.-KB/s               \r/tmp/sample_books.j 100%[===================>]   1.53K  --.-KB/s    in 0s      \n",
            "\n",
            "2021-09-04 19:24:43 (18.7 MB/s) - ‘/tmp/sample_books.json’ saved [1565/1565]\n",
            "\n"
          ]
        }
      ]
    },
    {
      "cell_type": "code",
      "metadata": {
        "colab": {
          "base_uri": "https://localhost:8080/"
        },
        "id": "Dfmp6-MsWkWW",
        "outputId": "0576363a-7fab-4ee1-a864-2a278160c04f"
      },
      "source": [
        "!wget --continue https://raw.githubusercontent.com/JacekPardyak/vps/master/data/vps_churn_data_py.json -O /tmp/vps_churn_data_py.json"
      ],
      "execution_count": 63,
      "outputs": [
        {
          "output_type": "stream",
          "name": "stdout",
          "text": [
            "--2021-09-04 20:36:12--  https://raw.githubusercontent.com/JacekPardyak/vps/master/data/vps_churn_data_py.json\n",
            "Resolving raw.githubusercontent.com (raw.githubusercontent.com)... 185.199.108.133, 185.199.109.133, 185.199.110.133, ...\n",
            "Connecting to raw.githubusercontent.com (raw.githubusercontent.com)|185.199.108.133|:443... connected.\n",
            "HTTP request sent, awaiting response... 200 OK\n",
            "Length: 247125 (241K) [text/plain]\n",
            "Saving to: ‘/tmp/vps_churn_data_py.json’\n",
            "\n",
            "\r          /tmp/vps_   0%[                    ]       0  --.-KB/s               \r/tmp/vps_churn_data 100%[===================>] 241.33K  --.-KB/s    in 0.06s   \n",
            "\n",
            "2021-09-04 20:36:12 (3.99 MB/s) - ‘/tmp/vps_churn_data_py.json’ saved [247125/247125]\n",
            "\n"
          ]
        }
      ]
    },
    {
      "cell_type": "code",
      "metadata": {
        "id": "IMEf6eJVRVbU"
      },
      "source": [
        "#df = spark.read.json(\"/tmp/sample_books.json\")\n",
        "df = spark.read.json(\"/tmp/vps_churn_data_py.json\")"
      ],
      "execution_count": 64,
      "outputs": []
    },
    {
      "cell_type": "code",
      "metadata": {
        "colab": {
          "base_uri": "https://localhost:8080/"
        },
        "id": "Y0jxYTuORh_Z",
        "outputId": "eefed0d7-eb28-4c68-8e12-c59ea664b765"
      },
      "source": [
        "df.printSchema()"
      ],
      "execution_count": 65,
      "outputs": [
        {
          "output_type": "stream",
          "name": "stdout",
          "text": [
            "root\n",
            " |-- cpu_load_max_gradient: double (nullable = true)\n",
            " |-- cpu_load_mean_m_3: double (nullable = true)\n",
            " |-- cpu_load_monthly_mean_delta: double (nullable = true)\n",
            " |-- disk_octets_read_max_gradient: double (nullable = true)\n",
            " |-- disk_octets_read_mean_m_3: double (nullable = true)\n",
            " |-- disk_octets_read_monthly_mean_delta: double (nullable = true)\n",
            " |-- disk_octets_write_max_gradient: double (nullable = true)\n",
            " |-- disk_octets_write_mean_m_3: double (nullable = true)\n",
            " |-- disk_octets_write_monthly_mean_delta: double (nullable = true)\n",
            " |-- disk_ops_read_max_gradient: double (nullable = true)\n",
            " |-- disk_ops_read_mean_m_3: double (nullable = true)\n",
            " |-- disk_ops_read_monthly_mean_delta: double (nullable = true)\n",
            " |-- disk_ops_write_max_gradient: double (nullable = true)\n",
            " |-- disk_ops_write_mean_m_3: double (nullable = true)\n",
            " |-- disk_ops_write_monthly_mean_delta: double (nullable = true)\n",
            " |-- id: long (nullable = true)\n",
            " |-- is_churn: long (nullable = true)\n",
            " |-- network_rx_max_gradient: double (nullable = true)\n",
            " |-- network_rx_mean_m_3: double (nullable = true)\n",
            " |-- network_rx_monthly_mean_delta: double (nullable = true)\n",
            " |-- network_tx_max_gradient: double (nullable = true)\n",
            " |-- network_tx_mean_m_3: double (nullable = true)\n",
            " |-- network_tx_monthly_mean_delta: double (nullable = true)\n",
            "\n"
          ]
        }
      ]
    },
    {
      "cell_type": "code",
      "metadata": {
        "colab": {
          "base_uri": "https://localhost:8080/"
        },
        "id": "83mBu0ZfR0NL",
        "outputId": "d882e12c-261d-4801-f821-23f6859f4ef3"
      },
      "source": [
        "df.show(4,False)"
      ],
      "execution_count": 66,
      "outputs": [
        {
          "output_type": "stream",
          "name": "stdout",
          "text": [
            "+---------------------+-----------------+---------------------------+-----------------------------+-------------------------+-----------------------------------+------------------------------+--------------------------+------------------------------------+--------------------------+----------------------+--------------------------------+---------------------------+-----------------------+---------------------------------+---+--------+-----------------------+-------------------+-----------------------------+-----------------------+-------------------+-----------------------------+\n",
            "|cpu_load_max_gradient|cpu_load_mean_m_3|cpu_load_monthly_mean_delta|disk_octets_read_max_gradient|disk_octets_read_mean_m_3|disk_octets_read_monthly_mean_delta|disk_octets_write_max_gradient|disk_octets_write_mean_m_3|disk_octets_write_monthly_mean_delta|disk_ops_read_max_gradient|disk_ops_read_mean_m_3|disk_ops_read_monthly_mean_delta|disk_ops_write_max_gradient|disk_ops_write_mean_m_3|disk_ops_write_monthly_mean_delta|id |is_churn|network_rx_max_gradient|network_rx_mean_m_3|network_rx_monthly_mean_delta|network_tx_max_gradient|network_tx_mean_m_3|network_tx_monthly_mean_delta|\n",
            "+---------------------+-----------------+---------------------------+-----------------------------+-------------------------+-----------------------------------+------------------------------+--------------------------+------------------------------------+--------------------------+----------------------+--------------------------------+---------------------------+-----------------------+---------------------------------+---+--------+-----------------------+-------------------+-----------------------------+-----------------------+-------------------+-----------------------------+\n",
            "|0.44565168           |13.37989247      |9.93544803                 |1.74435668                   |38.82583205              |38.59628038                        |0.00463981                    |0.11851402                |0.09822835                          |14.46249656               |336.6972043           |331.6849821                     |0.22755614                 |6.77032258             |5.18743369                       |100|1       |-3.44E-5               |0.01612843         |-8.3925E-4                   |5.59E-5                |0.01171808         |0.001784                     |\n",
            "|-0.00172695          |16.90204301      |-3.97190143                |-5.9626E-4                   |0.00328473               |-0.01781286                        |-6.43E-5                      |0.33609133                |-7.0227E-4                          |-0.00633933               |0.08150538            |-0.18960574                     |-0.00207351                |2.7939785              |0.16231183                       |101|0       |9.5E-5                 |0.04812798         |0.00761928                   |-0.00434225            |0.44380426         |-0.1490684                   |\n",
            "|0.3733529            |248.935914       |9.67491398                 |-0.01865949                  |19.37152776              |-0.53592374                        |-0.07624555                   |31.9710273                |-2.3433956                          |-0.16357924               |213.1603226           |-22.40323297                    |-0.44157712                |194.5582796            |-26.08083154                     |102|0       |-0.02173184            |1.72831136         |-0.3315117                   |-0.00538242            |1.35480347         |-0.1905986                   |\n",
            "|-0.03158981          |14.05419355      |-0.86152867                |-0.00180007                  |0.10182502               |-0.0723567                         |0.00328335                    |0.99700527                |0.05448654                          |-0.20777508               |2.18870968            |-7.24773477                     |0.01796263                 |9.63483871             |-0.05549462                      |103|1       |7.1597E-4              |0.08254686         |-4.014E-4                    |-3.1719E-4             |0.00850134         |-0.0071339                   |\n",
            "+---------------------+-----------------+---------------------------+-----------------------------+-------------------------+-----------------------------------+------------------------------+--------------------------+------------------------------------+--------------------------+----------------------+--------------------------------+---------------------------+-----------------------+---------------------------------+---+--------+-----------------------+-------------------+-----------------------------+-----------------------+-------------------+-----------------------------+\n",
            "only showing top 4 rows\n",
            "\n"
          ]
        }
      ]
    },
    {
      "cell_type": "code",
      "metadata": {
        "colab": {
          "base_uri": "https://localhost:8080/"
        },
        "id": "_6UJ9OOBboTk",
        "outputId": "b5e93f74-a3ab-45a1-a981-b4356266f77a"
      },
      "source": [
        "df.count()"
      ],
      "execution_count": 67,
      "outputs": [
        {
          "output_type": "execute_result",
          "data": {
            "text/plain": [
              "283"
            ]
          },
          "metadata": {},
          "execution_count": 67
        }
      ]
    },
    {
      "cell_type": "code",
      "metadata": {
        "colab": {
          "base_uri": "https://localhost:8080/"
        },
        "id": "gvNX3MVzbqfr",
        "outputId": "af6578bb-826e-44f1-d9b0-6591b097d8e0"
      },
      "source": [
        "df.select('id', 'cpu_load_max_gradient', 'is_churn').show(5)"
      ],
      "execution_count": 68,
      "outputs": [
        {
          "output_type": "stream",
          "name": "stdout",
          "text": [
            "+---+---------------------+--------+\n",
            "| id|cpu_load_max_gradient|is_churn|\n",
            "+---+---------------------+--------+\n",
            "|100|           0.44565168|       1|\n",
            "|101|          -0.00172695|       0|\n",
            "|102|            0.3733529|       0|\n",
            "|103|          -0.03158981|       1|\n",
            "|104|          -0.09440948|       0|\n",
            "+---+---------------------+--------+\n",
            "only showing top 5 rows\n",
            "\n"
          ]
        }
      ]
    },
    {
      "cell_type": "code",
      "metadata": {
        "colab": {
          "base_uri": "https://localhost:8080/"
        },
        "id": "PyXgU6dxb-jJ",
        "outputId": "9448e3de-8c4e-4b16-cdae-1c33f238d0fc"
      },
      "source": [
        "df_filtered = df.filter(\"year_written > 1950 AND price > 10 AND title IS NOT NULL\")\n",
        "df_filtered.select(\"title\", \"price\", \"year_written\").show(50, False)"
      ],
      "execution_count": 51,
      "outputs": [
        {
          "output_type": "stream",
          "name": "stdout",
          "text": [
            "+-----------------------------+-----+------------+\n",
            "|title                        |price|year_written|\n",
            "+-----------------------------+-----+------------+\n",
            "|The Hours                    |12.35|1999        |\n",
            "|Harry Potter                 |19.95|2000        |\n",
            "|One Hundred Years of Solitude|14.0 |1967        |\n",
            "+-----------------------------+-----+------------+\n",
            "\n"
          ]
        }
      ]
    },
    {
      "cell_type": "code",
      "metadata": {
        "colab": {
          "base_uri": "https://localhost:8080/"
        },
        "id": "7ON-aZxYcH5R",
        "outputId": "4689edf9-9bb2-4851-c96c-20856cec4cfb"
      },
      "source": [
        "df_filtered.select(\"title\", \"year_written\").filter(\"title LIKE '%Harry Potter%'\").distinct().show(20, False)"
      ],
      "execution_count": 52,
      "outputs": [
        {
          "output_type": "stream",
          "name": "stdout",
          "text": [
            "+------------+------------+\n",
            "|title       |year_written|\n",
            "+------------+------------+\n",
            "|Harry Potter|2000        |\n",
            "+------------+------------+\n",
            "\n"
          ]
        }
      ]
    },
    {
      "cell_type": "code",
      "metadata": {
        "colab": {
          "base_uri": "https://localhost:8080/"
        },
        "id": "n3Rm6d0lcPZ5",
        "outputId": "601b2996-ea92-48e3-e043-8d510113d099"
      },
      "source": [
        "from pyspark.sql.functions import max\n",
        "# Find the costliest book\n",
        "maxValue = df_filtered.agg(max(\"price\")).collect()[0][0]\n",
        "print(\"maxValue: \",maxValue)\n",
        "df_filtered.select(\"title\",\"price\").filter(df.price == maxValue).show(20, False)"
      ],
      "execution_count": 53,
      "outputs": [
        {
          "output_type": "stream",
          "name": "stdout",
          "text": [
            "maxValue:  19.95\n",
            "+------------+-----+\n",
            "|title       |price|\n",
            "+------------+-----+\n",
            "|Harry Potter|19.95|\n",
            "+------------+-----+\n",
            "\n"
          ]
        }
      ]
    }
  ]
}