{
  "nbformat": 4,
  "nbformat_minor": 0,
  "metadata": {
    "colab": {
      "name": "iris.ipynb",
      "provenance": [],
      "collapsed_sections": [],
      "authorship_tag": "ABX9TyMTTaTEiDELRFtNM7pt5HvU",
      "include_colab_link": true
    },
    "kernelspec": {
      "name": "python3",
      "display_name": "Python 3"
    },
    "language_info": {
      "name": "python"
    }
  },
  "cells": [
    {
      "cell_type": "markdown",
      "metadata": {
        "id": "view-in-github",
        "colab_type": "text"
      },
      "source": [
        "<a href=\"https://colab.research.google.com/github/JacekPardyak/vps/blob/master/iris.ipynb\" target=\"_parent\"><img src=\"https://colab.research.google.com/assets/colab-badge.svg\" alt=\"Open In Colab\"/></a>"
      ]
    },
    {
      "cell_type": "code",
      "metadata": {
        "colab": {
          "base_uri": "https://localhost:8080/"
        },
        "id": "9RPemnMVNimr",
        "outputId": "b7f4e449-2df3-4412-a992-97f3a0c7522a"
      },
      "source": [
        "!pip install pyspark"
      ],
      "execution_count": 1,
      "outputs": [
        {
          "output_type": "stream",
          "name": "stdout",
          "text": [
            "Requirement already satisfied: pyspark in /usr/local/lib/python3.7/dist-packages (3.1.2)\n",
            "Requirement already satisfied: py4j==0.10.9 in /usr/local/lib/python3.7/dist-packages (from pyspark) (0.10.9)\n"
          ]
        }
      ]
    },
    {
      "cell_type": "code",
      "metadata": {
        "colab": {
          "base_uri": "https://localhost:8080/"
        },
        "id": "VSL6Fm1_N-vi",
        "outputId": "d1549be7-1367-4cb0-d6d9-389d1766fb7a"
      },
      "source": [
        "!wget --continue https://raw.githubusercontent.com/JacekPardyak/vps/master/data/IRIS.csv -O /tmp/IRIS.csv\n",
        "from pyspark.sql import SparkSession\n",
        "spark = SparkSession.builder.appName('ml-iris').getOrCreate()\n",
        "df = spark.read.csv('/tmp/IRIS.csv', header = True, inferSchema = True)\n",
        "df.printSchema()"
      ],
      "execution_count": 2,
      "outputs": [
        {
          "output_type": "stream",
          "name": "stdout",
          "text": [
            "--2021-09-05 20:36:10--  https://raw.githubusercontent.com/JacekPardyak/vps/master/data/IRIS.csv\n",
            "Resolving raw.githubusercontent.com (raw.githubusercontent.com)... 185.199.110.133, 185.199.109.133, 185.199.111.133, ...\n",
            "Connecting to raw.githubusercontent.com (raw.githubusercontent.com)|185.199.110.133|:443... connected.\n",
            "HTTP request sent, awaiting response... 416 Range Not Satisfiable\n",
            "\n",
            "    The file is already fully retrieved; nothing to do.\n",
            "\n",
            "root\n",
            " |-- sepal_length: double (nullable = true)\n",
            " |-- sepal_width: double (nullable = true)\n",
            " |-- petal_length: double (nullable = true)\n",
            " |-- petal_width: double (nullable = true)\n",
            " |-- species: string (nullable = true)\n",
            "\n"
          ]
        }
      ]
    },
    {
      "cell_type": "code",
      "metadata": {
        "colab": {
          "base_uri": "https://localhost:8080/"
        },
        "id": "n41eMs7lda-O",
        "outputId": "27bbdde6-b445-415b-d32b-b48bc189aaf8"
      },
      "source": [
        "df.show(5)"
      ],
      "execution_count": 3,
      "outputs": [
        {
          "output_type": "stream",
          "name": "stdout",
          "text": [
            "+------------+-----------+------------+-----------+-------+\n",
            "|sepal_length|sepal_width|petal_length|petal_width|species|\n",
            "+------------+-----------+------------+-----------+-------+\n",
            "|         5.1|        3.5|         1.4|        0.2| setosa|\n",
            "|         4.9|        3.0|         1.4|        0.2| setosa|\n",
            "|         4.7|        3.2|         1.3|        0.2| setosa|\n",
            "|         4.6|        3.1|         1.5|        0.2| setosa|\n",
            "|         5.0|        3.6|         1.4|        0.2| setosa|\n",
            "+------------+-----------+------------+-----------+-------+\n",
            "only showing top 5 rows\n",
            "\n"
          ]
        }
      ]
    },
    {
      "cell_type": "code",
      "metadata": {
        "colab": {
          "base_uri": "https://localhost:8080/"
        },
        "id": "KFjRTQB8dtDE",
        "outputId": "ac885ed7-9e29-4f0f-b01d-ecb534c3cb1e"
      },
      "source": [
        "df.describe().show()"
      ],
      "execution_count": 4,
      "outputs": [
        {
          "output_type": "stream",
          "name": "stdout",
          "text": [
            "+-------+------------------+-------------------+------------------+------------------+---------+\n",
            "|summary|      sepal_length|        sepal_width|      petal_length|       petal_width|  species|\n",
            "+-------+------------------+-------------------+------------------+------------------+---------+\n",
            "|  count|               150|                150|               150|               150|      150|\n",
            "|   mean| 5.843333333333335|  3.057333333333334|3.7580000000000027| 1.199333333333334|     null|\n",
            "| stddev|0.8280661279778637|0.43586628493669793|1.7652982332594662|0.7622376689603467|     null|\n",
            "|    min|               4.3|                2.0|               1.0|               0.1|   setosa|\n",
            "|    max|               7.9|                4.4|               6.9|               2.5|virginica|\n",
            "+-------+------------------+-------------------+------------------+------------------+---------+\n",
            "\n"
          ]
        }
      ]
    },
    {
      "cell_type": "code",
      "metadata": {
        "id": "HwA_xtD-gjza"
      },
      "source": [
        "#df.select('Sepal.Length', 'Sepal.Width', 'Petal.Length', 'Petal.Width').show(5)"
      ],
      "execution_count": 16,
      "outputs": []
    },
    {
      "cell_type": "code",
      "metadata": {
        "colab": {
          "base_uri": "https://localhost:8080/"
        },
        "id": "Akc5Kg8SeHkb",
        "outputId": "42d89fdc-60fe-4294-9c98-3aea4de98bed"
      },
      "source": [
        "from pyspark.ml.feature import VectorAssembler\n",
        "\n",
        "numericCols = ['sepal_length', 'sepal_width', 'petal_length', 'petal_width']\n",
        "assembler = VectorAssembler(inputCols=numericCols, outputCol=\"features\")\n",
        "df = assembler.transform(df)\n",
        "df.show()"
      ],
      "execution_count": 5,
      "outputs": [
        {
          "output_type": "stream",
          "name": "stdout",
          "text": [
            "+------------+-----------+------------+-----------+-------+-----------------+\n",
            "|sepal_length|sepal_width|petal_length|petal_width|species|         features|\n",
            "+------------+-----------+------------+-----------+-------+-----------------+\n",
            "|         5.1|        3.5|         1.4|        0.2| setosa|[5.1,3.5,1.4,0.2]|\n",
            "|         4.9|        3.0|         1.4|        0.2| setosa|[4.9,3.0,1.4,0.2]|\n",
            "|         4.7|        3.2|         1.3|        0.2| setosa|[4.7,3.2,1.3,0.2]|\n",
            "|         4.6|        3.1|         1.5|        0.2| setosa|[4.6,3.1,1.5,0.2]|\n",
            "|         5.0|        3.6|         1.4|        0.2| setosa|[5.0,3.6,1.4,0.2]|\n",
            "|         5.4|        3.9|         1.7|        0.4| setosa|[5.4,3.9,1.7,0.4]|\n",
            "|         4.6|        3.4|         1.4|        0.3| setosa|[4.6,3.4,1.4,0.3]|\n",
            "|         5.0|        3.4|         1.5|        0.2| setosa|[5.0,3.4,1.5,0.2]|\n",
            "|         4.4|        2.9|         1.4|        0.2| setosa|[4.4,2.9,1.4,0.2]|\n",
            "|         4.9|        3.1|         1.5|        0.1| setosa|[4.9,3.1,1.5,0.1]|\n",
            "|         5.4|        3.7|         1.5|        0.2| setosa|[5.4,3.7,1.5,0.2]|\n",
            "|         4.8|        3.4|         1.6|        0.2| setosa|[4.8,3.4,1.6,0.2]|\n",
            "|         4.8|        3.0|         1.4|        0.1| setosa|[4.8,3.0,1.4,0.1]|\n",
            "|         4.3|        3.0|         1.1|        0.1| setosa|[4.3,3.0,1.1,0.1]|\n",
            "|         5.8|        4.0|         1.2|        0.2| setosa|[5.8,4.0,1.2,0.2]|\n",
            "|         5.7|        4.4|         1.5|        0.4| setosa|[5.7,4.4,1.5,0.4]|\n",
            "|         5.4|        3.9|         1.3|        0.4| setosa|[5.4,3.9,1.3,0.4]|\n",
            "|         5.1|        3.5|         1.4|        0.3| setosa|[5.1,3.5,1.4,0.3]|\n",
            "|         5.7|        3.8|         1.7|        0.3| setosa|[5.7,3.8,1.7,0.3]|\n",
            "|         5.1|        3.8|         1.5|        0.3| setosa|[5.1,3.8,1.5,0.3]|\n",
            "+------------+-----------+------------+-----------+-------+-----------------+\n",
            "only showing top 20 rows\n",
            "\n"
          ]
        }
      ]
    },
    {
      "cell_type": "code",
      "metadata": {
        "colab": {
          "base_uri": "https://localhost:8080/"
        },
        "id": "peKeakN8jHwR",
        "outputId": "1de49698-ae3a-4cec-f32d-2123d0d8acab"
      },
      "source": [
        "from pyspark.ml.feature import StringIndexer\n",
        "\n",
        "label_stringIdx = StringIndexer(inputCol = 'species', outputCol = 'indexedLabel')\n",
        "df = label_stringIdx.fit(df).transform(df)\n",
        "df.show()"
      ],
      "execution_count": 6,
      "outputs": [
        {
          "output_type": "stream",
          "name": "stdout",
          "text": [
            "+------------+-----------+------------+-----------+-------+-----------------+------------+\n",
            "|sepal_length|sepal_width|petal_length|petal_width|species|         features|indexedLabel|\n",
            "+------------+-----------+------------+-----------+-------+-----------------+------------+\n",
            "|         5.1|        3.5|         1.4|        0.2| setosa|[5.1,3.5,1.4,0.2]|         0.0|\n",
            "|         4.9|        3.0|         1.4|        0.2| setosa|[4.9,3.0,1.4,0.2]|         0.0|\n",
            "|         4.7|        3.2|         1.3|        0.2| setosa|[4.7,3.2,1.3,0.2]|         0.0|\n",
            "|         4.6|        3.1|         1.5|        0.2| setosa|[4.6,3.1,1.5,0.2]|         0.0|\n",
            "|         5.0|        3.6|         1.4|        0.2| setosa|[5.0,3.6,1.4,0.2]|         0.0|\n",
            "|         5.4|        3.9|         1.7|        0.4| setosa|[5.4,3.9,1.7,0.4]|         0.0|\n",
            "|         4.6|        3.4|         1.4|        0.3| setosa|[4.6,3.4,1.4,0.3]|         0.0|\n",
            "|         5.0|        3.4|         1.5|        0.2| setosa|[5.0,3.4,1.5,0.2]|         0.0|\n",
            "|         4.4|        2.9|         1.4|        0.2| setosa|[4.4,2.9,1.4,0.2]|         0.0|\n",
            "|         4.9|        3.1|         1.5|        0.1| setosa|[4.9,3.1,1.5,0.1]|         0.0|\n",
            "|         5.4|        3.7|         1.5|        0.2| setosa|[5.4,3.7,1.5,0.2]|         0.0|\n",
            "|         4.8|        3.4|         1.6|        0.2| setosa|[4.8,3.4,1.6,0.2]|         0.0|\n",
            "|         4.8|        3.0|         1.4|        0.1| setosa|[4.8,3.0,1.4,0.1]|         0.0|\n",
            "|         4.3|        3.0|         1.1|        0.1| setosa|[4.3,3.0,1.1,0.1]|         0.0|\n",
            "|         5.8|        4.0|         1.2|        0.2| setosa|[5.8,4.0,1.2,0.2]|         0.0|\n",
            "|         5.7|        4.4|         1.5|        0.4| setosa|[5.7,4.4,1.5,0.4]|         0.0|\n",
            "|         5.4|        3.9|         1.3|        0.4| setosa|[5.4,3.9,1.3,0.4]|         0.0|\n",
            "|         5.1|        3.5|         1.4|        0.3| setosa|[5.1,3.5,1.4,0.3]|         0.0|\n",
            "|         5.7|        3.8|         1.7|        0.3| setosa|[5.7,3.8,1.7,0.3]|         0.0|\n",
            "|         5.1|        3.8|         1.5|        0.3| setosa|[5.1,3.8,1.5,0.3]|         0.0|\n",
            "+------------+-----------+------------+-----------+-------+-----------------+------------+\n",
            "only showing top 20 rows\n",
            "\n"
          ]
        }
      ]
    },
    {
      "cell_type": "code",
      "metadata": {
        "colab": {
          "base_uri": "https://localhost:8080/"
        },
        "id": "_mrb7L7qjM6X",
        "outputId": "6be33c46-bf3f-424a-9991-08d88d856ac6"
      },
      "source": [
        "train, test = df.randomSplit([0.7, 0.3], seed = 2018)\n",
        "print(\"Training Dataset Count: \" + str(train.count()))\n",
        "print(\"Test Dataset Count: \" + str(test.count()))"
      ],
      "execution_count": 7,
      "outputs": [
        {
          "output_type": "stream",
          "name": "stdout",
          "text": [
            "Training Dataset Count: 103\n",
            "Test Dataset Count: 47\n"
          ]
        }
      ]
    },
    {
      "cell_type": "code",
      "metadata": {
        "colab": {
          "base_uri": "https://localhost:8080/"
        },
        "id": "DEGnocy1jevH",
        "outputId": "0d1689f5-ad34-4bb8-e964-9019d5932787"
      },
      "source": [
        "from pyspark.ml.classification import RandomForestClassifier\n",
        "\n",
        "rf = RandomForestClassifier(featuresCol = 'features', labelCol = 'indexedLabel')\n",
        "rfModel = rf.fit(train)\n",
        "predictions = rfModel.transform(test)\n",
        "predictions.show()"
      ],
      "execution_count": 8,
      "outputs": [
        {
          "output_type": "stream",
          "name": "stdout",
          "text": [
            "+------------+-----------+------------+-----------+----------+-----------------+------------+--------------------+--------------------+----------+\n",
            "|sepal_length|sepal_width|petal_length|petal_width|   species|         features|indexedLabel|       rawPrediction|         probability|prediction|\n",
            "+------------+-----------+------------+-----------+----------+-----------------+------------+--------------------+--------------------+----------+\n",
            "|         4.3|        3.0|         1.1|        0.1|    setosa|[4.3,3.0,1.1,0.1]|         0.0|      [20.0,0.0,0.0]|       [1.0,0.0,0.0]|       0.0|\n",
            "|         4.6|        3.6|         1.0|        0.2|    setosa|[4.6,3.6,1.0,0.2]|         0.0|      [20.0,0.0,0.0]|       [1.0,0.0,0.0]|       0.0|\n",
            "|         4.8|        3.0|         1.4|        0.1|    setosa|[4.8,3.0,1.4,0.1]|         0.0|      [20.0,0.0,0.0]|       [1.0,0.0,0.0]|       0.0|\n",
            "|         4.8|        3.0|         1.4|        0.3|    setosa|[4.8,3.0,1.4,0.3]|         0.0|      [20.0,0.0,0.0]|       [1.0,0.0,0.0]|       0.0|\n",
            "|         4.9|        2.4|         3.3|        1.0|versicolor|[4.9,2.4,3.3,1.0]|         1.0|      [0.0,17.0,3.0]|     [0.0,0.85,0.15]|       1.0|\n",
            "|         4.9|        3.1|         1.5|        0.1|    setosa|[4.9,3.1,1.5,0.1]|         0.0|      [20.0,0.0,0.0]|       [1.0,0.0,0.0]|       0.0|\n",
            "|         5.0|        2.3|         3.3|        1.0|versicolor|[5.0,2.3,3.3,1.0]|         1.0|[0.0,19.936363636...|[0.0,0.9968181818...|       1.0|\n",
            "|         5.0|        3.5|         1.6|        0.6|    setosa|[5.0,3.5,1.6,0.6]|         0.0|      [20.0,0.0,0.0]|       [1.0,0.0,0.0]|       0.0|\n",
            "|         5.1|        2.5|         3.0|        1.1|versicolor|[5.1,2.5,3.0,1.1]|         1.0|[0.0,19.936363636...|[0.0,0.9968181818...|       1.0|\n",
            "|         5.1|        3.3|         1.7|        0.5|    setosa|[5.1,3.3,1.7,0.5]|         0.0|      [20.0,0.0,0.0]|       [1.0,0.0,0.0]|       0.0|\n",
            "|         5.1|        3.5|         1.4|        0.2|    setosa|[5.1,3.5,1.4,0.2]|         0.0|      [20.0,0.0,0.0]|       [1.0,0.0,0.0]|       0.0|\n",
            "|         5.1|        3.8|         1.6|        0.2|    setosa|[5.1,3.8,1.6,0.2]|         0.0|      [20.0,0.0,0.0]|       [1.0,0.0,0.0]|       0.0|\n",
            "|         5.2|        3.4|         1.4|        0.2|    setosa|[5.2,3.4,1.4,0.2]|         0.0|      [20.0,0.0,0.0]|       [1.0,0.0,0.0]|       0.0|\n",
            "|         5.2|        3.5|         1.5|        0.2|    setosa|[5.2,3.5,1.5,0.2]|         0.0|      [20.0,0.0,0.0]|       [1.0,0.0,0.0]|       0.0|\n",
            "|         5.4|        3.7|         1.5|        0.2|    setosa|[5.4,3.7,1.5,0.2]|         0.0|      [20.0,0.0,0.0]|       [1.0,0.0,0.0]|       0.0|\n",
            "|         5.6|        2.8|         4.9|        2.0| virginica|[5.6,2.8,4.9,2.0]|         2.0|[0.0,1.9696969696...|[0.0,0.0984848484...|       2.0|\n",
            "|         5.6|        3.0|         4.5|        1.5|versicolor|[5.6,3.0,4.5,1.5]|         1.0|[0.0,19.864935064...|[0.0,0.9932467532...|       1.0|\n",
            "|         5.7|        2.8|         4.5|        1.3|versicolor|[5.7,2.8,4.5,1.3]|         1.0|[0.0,19.864935064...|[0.0,0.9932467532...|       1.0|\n",
            "|         5.7|        2.9|         4.2|        1.3|versicolor|[5.7,2.9,4.2,1.3]|         1.0|[0.0,19.936363636...|[0.0,0.9968181818...|       1.0|\n",
            "|         5.8|        2.7|         3.9|        1.2|versicolor|[5.8,2.7,3.9,1.2]|         1.0|[0.0,19.936363636...|[0.0,0.9968181818...|       1.0|\n",
            "+------------+-----------+------------+-----------+----------+-----------------+------------+--------------------+--------------------+----------+\n",
            "only showing top 20 rows\n",
            "\n"
          ]
        }
      ]
    },
    {
      "cell_type": "code",
      "metadata": {
        "colab": {
          "base_uri": "https://localhost:8080/"
        },
        "id": "9bqUFOXLkp9u",
        "outputId": "0ceec0b2-fbc3-41b4-b248-f5fd26a83a25"
      },
      "source": [
        "from pyspark.ml.evaluation import MulticlassClassificationEvaluator\n",
        "\n",
        "evaluator = MulticlassClassificationEvaluator(labelCol=\"indexedLabel\", predictionCol=\"prediction\")\n",
        "accuracy = evaluator.evaluate(predictions)\n",
        "print(\"Accuracy = %s\" % (accuracy))\n",
        "print(\"Test Error = %s\" % (1.0 - accuracy))"
      ],
      "execution_count": 9,
      "outputs": [
        {
          "output_type": "stream",
          "name": "stdout",
          "text": [
            "Accuracy = 0.914754554303991\n",
            "Test Error = 0.085245445696009\n"
          ]
        }
      ]
    },
    {
      "cell_type": "code",
      "metadata": {
        "colab": {
          "base_uri": "https://localhost:8080/"
        },
        "id": "-weVEBHuqGRi",
        "outputId": "46518099-35b2-468a-be53-4b74a05efb21"
      },
      "source": [
        "from pyspark.mllib.evaluation import MulticlassMetrics\n",
        "from pyspark.sql.types import FloatType\n",
        "import pyspark.sql.functions as F\n",
        "\n",
        "preds_and_labels = predictions.select(['prediction','indexedLabel']).withColumn('labelIndex', F.col('indexedLabel').cast(FloatType())).orderBy('prediction')\n",
        "preds_and_labels = preds_and_labels.select(['prediction','indexedLabel'])\n",
        "metrics = MulticlassMetrics(preds_and_labels.rdd.map(tuple))\n",
        "print(metrics.confusionMatrix().toArray())"
      ],
      "execution_count": 11,
      "outputs": [
        {
          "output_type": "stream",
          "name": "stdout",
          "text": [
            "[[12.  0.  0.]\n",
            " [ 0. 16.  1.]\n",
            " [ 0.  3. 15.]]\n"
          ]
        }
      ]
    }
  ]
}