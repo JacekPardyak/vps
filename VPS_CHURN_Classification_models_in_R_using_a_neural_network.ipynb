{
  "nbformat": 4,
  "nbformat_minor": 0,
  "metadata": {
    "colab": {
      "name": "VPS CHURN Classification models in R using a neural network.ipynb",
      "provenance": [],
      "collapsed_sections": [],
      "authorship_tag": "ABX9TyNEpn/45607v+u40hSsKSzL",
      "include_colab_link": true
    },
    "kernelspec": {
      "name": "ir",
      "display_name": "R"
    },
    "language_info": {
      "name": "R"
    }
  },
  "cells": [
    {
      "cell_type": "markdown",
      "metadata": {
        "id": "view-in-github",
        "colab_type": "text"
      },
      "source": [
        "<a href=\"https://colab.research.google.com/github/JacekPardyak/vps/blob/master/VPS_CHURN_Classification_models_in_R_using_a_neural_network.ipynb\" target=\"_parent\"><img src=\"https://colab.research.google.com/assets/colab-badge.svg\" alt=\"Open In Colab\"/></a>"
      ]
    },
    {
      "cell_type": "code",
      "metadata": {
        "colab": {
          "base_uri": "https://localhost:8080/"
        },
        "id": "UebvqiTpws3D",
        "outputId": "1c6b5819-1131-4f1c-9d12-a9dfe4e6dd71"
      },
      "source": [
        "install.packages('keras')\n",
        "install.packages('tfdatasets')\n",
        "install.packages('rsample')\n",
        "install.packages('Metrics')"
      ],
      "execution_count": 1,
      "outputs": [
        {
          "output_type": "stream",
          "name": "stderr",
          "text": [
            "Installing package into ‘/usr/local/lib/R/site-library’\n",
            "(as ‘lib’ is unspecified)\n",
            "\n",
            "also installing the dependencies ‘here’, ‘png’, ‘config’, ‘tfautograph’, ‘reticulate’, ‘tensorflow’, ‘tfruns’, ‘zeallot’\n",
            "\n",
            "\n",
            "Installing package into ‘/usr/local/lib/R/site-library’\n",
            "(as ‘lib’ is unspecified)\n",
            "\n",
            "Installing package into ‘/usr/local/lib/R/site-library’\n",
            "(as ‘lib’ is unspecified)\n",
            "\n",
            "also installing the dependencies ‘listenv’, ‘parallelly’, ‘future’, ‘globals’, ‘warp’, ‘furrr’, ‘slider’\n",
            "\n",
            "\n",
            "Installing package into ‘/usr/local/lib/R/site-library’\n",
            "(as ‘lib’ is unspecified)\n",
            "\n"
          ]
        }
      ]
    },
    {
      "cell_type": "code",
      "metadata": {
        "id": "UyTcXI9QYFp8"
      },
      "source": [
        "library(keras)\n",
        "library(tfdatasets)\n",
        "library(tidyverse)\n",
        "library(rsample)"
      ],
      "execution_count": 30,
      "outputs": []
    },
    {
      "cell_type": "code",
      "metadata": {
        "colab": {
          "base_uri": "https://localhost:8080/",
          "height": 479
        },
        "id": "rkKFpKs0WpZe",
        "outputId": "a7020f14-3182-4643-e06e-32c1ac8fcce8"
      },
      "source": [
        "vps <- read_csv(\"https://raw.githubusercontent.com/JacekPardyak/vps/master/data/vps_churn_data.txt\") \n",
        "head(vps)"
      ],
      "execution_count": 31,
      "outputs": [
        {
          "output_type": "stream",
          "name": "stderr",
          "text": [
            "\u001b[1m\u001b[1mRows: \u001b[1m\u001b[22m\u001b[34m\u001b[34m283\u001b[34m\u001b[39m \u001b[1m\u001b[1mColumns: \u001b[1m\u001b[22m\u001b[34m\u001b[34m23\u001b[34m\u001b[39m\n",
            "\n",
            "\u001b[36m──\u001b[39m \u001b[1m\u001b[1mColumn specification\u001b[1m\u001b[22m \u001b[36m────────────────────────────────────────────────────────\u001b[39m\n",
            "\u001b[1mDelimiter:\u001b[22m \",\"\n",
            "\u001b[32mdbl\u001b[39m (23): id, cpu_load_mean_m_3, disk_octets_read_mean_m_3, disk_octets_writ...\n",
            "\n",
            "\n",
            "\u001b[36mℹ\u001b[39m Use \u001b[30m\u001b[47m\u001b[30m\u001b[47m`spec()`\u001b[47m\u001b[30m\u001b[49m\u001b[39m to retrieve the full column specification for this data.\n",
            "\u001b[36mℹ\u001b[39m Specify the column types or set \u001b[30m\u001b[47m\u001b[30m\u001b[47m`show_col_types = FALSE`\u001b[47m\u001b[30m\u001b[49m\u001b[39m to quiet this message.\n",
            "\n"
          ]
        },
        {
          "output_type": "display_data",
          "data": {
            "text/plain": [
              "  id  cpu_load_mean_m_3 disk_octets_read_mean_m_3 disk_octets_write_mean_m_3\n",
              "1 100  13.37989         38.82583205                0.1185140                \n",
              "2 101  16.90204          0.00328473                0.3360913                \n",
              "3 102 248.93591         19.37152776               31.9710273                \n",
              "4 103  14.05419          0.10182502                0.9970053                \n",
              "5 104  85.79333         15.49345957               14.8748231                \n",
              "6 105  39.39430         11.36519674               20.1531819                \n",
              "  disk_ops_read_mean_m_3 disk_ops_write_mean_m_3 network_rx_mean_m_3\n",
              "1 336.69720430             6.770323              0.01612843         \n",
              "2   0.08150538             2.793979              0.04812798         \n",
              "3 213.16032260           194.558280              1.72831136         \n",
              "4   2.18870968             9.634839              0.08254686         \n",
              "5 280.23193550             9.595376              0.01669605         \n",
              "6 793.13655910            55.020000              9.81798408         \n",
              "  network_tx_mean_m_3 cpu_load_monthly_mean_delta network_tx_monthly_mean_delta\n",
              "1 0.01171808           9.9354480                   0.00178400                  \n",
              "2 0.44380426          -3.9719014                  -0.14906840                  \n",
              "3 1.35480347           9.6749140                  -0.19059860                  \n",
              "4 0.00850134          -0.8615287                  -0.00713390                  \n",
              "5 0.17150479          -3.5555556                  -0.06342757                  \n",
              "6 2.11235768          14.8470789                   1.93625702                  \n",
              "  ⋯ disk_octets_write_monthly_mean_delta disk_octets_read_monthly_mean_delta\n",
              "1 ⋯  0.09822835                          38.59628038                        \n",
              "2 ⋯ -0.00070227                          -0.01781286                        \n",
              "3 ⋯ -2.34339560                          -0.53592374                        \n",
              "4 ⋯  0.05448654                          -0.07235670                        \n",
              "5 ⋯ -0.46046894                          -0.43877029                        \n",
              "6 ⋯ 17.10998272                           7.60239588                        \n",
              "  cpu_load_max_gradient disk_octets_read_max_gradient\n",
              "1  0.44565168            1.74435668                  \n",
              "2 -0.00172695           -0.00059626                  \n",
              "3  0.37335290           -0.01865949                  \n",
              "4 -0.03158981           -0.00180007                  \n",
              "5 -0.09440948           -0.01649244                  \n",
              "6  0.39098123            0.24210812                  \n",
              "  disk_octets_write_max_gradient disk_ops_read_max_gradient\n",
              "1  0.00463981                    14.46249656               \n",
              "2 -0.00006430                    -0.00633933               \n",
              "3 -0.07624555                    -0.16357924               \n",
              "4  0.00328335                    -0.20777508               \n",
              "5 -0.01788293                    -0.15304266               \n",
              "6  0.54836924                    -4.40403032               \n",
              "  disk_ops_write_max_gradient network_rx_max_gradient network_tx_max_gradient\n",
              "1  0.22755614                 -0.00003440              0.00005590            \n",
              "2 -0.00207351                  0.00009500             -0.00434225            \n",
              "3 -0.44157712                 -0.02173184             -0.00538242            \n",
              "4  0.01796263                  0.00071597             -0.00031719            \n",
              "5 -0.02211370                 -0.00011261             -0.00242201            \n",
              "6  0.19133439                  0.24408652              0.02221419            \n",
              "  is_churn\n",
              "1 1       \n",
              "2 0       \n",
              "3 0       \n",
              "4 1       \n",
              "5 0       \n",
              "6 0       "
            ],
            "text/latex": "A tibble: 6 × 23\n\\begin{tabular}{lllllllllllllllllllll}\n id & cpu\\_load\\_mean\\_m\\_3 & disk\\_octets\\_read\\_mean\\_m\\_3 & disk\\_octets\\_write\\_mean\\_m\\_3 & disk\\_ops\\_read\\_mean\\_m\\_3 & disk\\_ops\\_write\\_mean\\_m\\_3 & network\\_rx\\_mean\\_m\\_3 & network\\_tx\\_mean\\_m\\_3 & cpu\\_load\\_monthly\\_mean\\_delta & network\\_tx\\_monthly\\_mean\\_delta & ⋯ & disk\\_octets\\_write\\_monthly\\_mean\\_delta & disk\\_octets\\_read\\_monthly\\_mean\\_delta & cpu\\_load\\_max\\_gradient & disk\\_octets\\_read\\_max\\_gradient & disk\\_octets\\_write\\_max\\_gradient & disk\\_ops\\_read\\_max\\_gradient & disk\\_ops\\_write\\_max\\_gradient & network\\_rx\\_max\\_gradient & network\\_tx\\_max\\_gradient & is\\_churn\\\\\n <dbl> & <dbl> & <dbl> & <dbl> & <dbl> & <dbl> & <dbl> & <dbl> & <dbl> & <dbl> & ⋯ & <dbl> & <dbl> & <dbl> & <dbl> & <dbl> & <dbl> & <dbl> & <dbl> & <dbl> & <dbl>\\\\\n\\hline\n\t 100 &  13.37989 & 38.82583205 &  0.1185140 & 336.69720430 &   6.770323 & 0.01612843 & 0.01171808 &  9.9354480 &  0.00178400 & ⋯ &  0.09822835 & 38.59628038 &  0.44565168 &  1.74435668 &  0.00463981 & 14.46249656 &  0.22755614 & -0.00003440 &  0.00005590 & 1\\\\\n\t 101 &  16.90204 &  0.00328473 &  0.3360913 &   0.08150538 &   2.793979 & 0.04812798 & 0.44380426 & -3.9719014 & -0.14906840 & ⋯ & -0.00070227 & -0.01781286 & -0.00172695 & -0.00059626 & -0.00006430 & -0.00633933 & -0.00207351 &  0.00009500 & -0.00434225 & 0\\\\\n\t 102 & 248.93591 & 19.37152776 & 31.9710273 & 213.16032260 & 194.558280 & 1.72831136 & 1.35480347 &  9.6749140 & -0.19059860 & ⋯ & -2.34339560 & -0.53592374 &  0.37335290 & -0.01865949 & -0.07624555 & -0.16357924 & -0.44157712 & -0.02173184 & -0.00538242 & 0\\\\\n\t 103 &  14.05419 &  0.10182502 &  0.9970053 &   2.18870968 &   9.634839 & 0.08254686 & 0.00850134 & -0.8615287 & -0.00713390 & ⋯ &  0.05448654 & -0.07235670 & -0.03158981 & -0.00180007 &  0.00328335 & -0.20777508 &  0.01796263 &  0.00071597 & -0.00031719 & 1\\\\\n\t 104 &  85.79333 & 15.49345957 & 14.8748231 & 280.23193550 &   9.595376 & 0.01669605 & 0.17150479 & -3.5555556 & -0.06342757 & ⋯ & -0.46046894 & -0.43877029 & -0.09440948 & -0.01649244 & -0.01788293 & -0.15304266 & -0.02211370 & -0.00011261 & -0.00242201 & 0\\\\\n\t 105 &  39.39430 & 11.36519674 & 20.1531819 & 793.13655910 &  55.020000 & 9.81798408 & 2.11235768 & 14.8470789 &  1.93625702 & ⋯ & 17.10998272 &  7.60239588 &  0.39098123 &  0.24210812 &  0.54836924 & -4.40403032 &  0.19133439 &  0.24408652 &  0.02221419 & 0\\\\\n\\end{tabular}\n",
            "text/markdown": "\nA tibble: 6 × 23\n\n| id &lt;dbl&gt; | cpu_load_mean_m_3 &lt;dbl&gt; | disk_octets_read_mean_m_3 &lt;dbl&gt; | disk_octets_write_mean_m_3 &lt;dbl&gt; | disk_ops_read_mean_m_3 &lt;dbl&gt; | disk_ops_write_mean_m_3 &lt;dbl&gt; | network_rx_mean_m_3 &lt;dbl&gt; | network_tx_mean_m_3 &lt;dbl&gt; | cpu_load_monthly_mean_delta &lt;dbl&gt; | network_tx_monthly_mean_delta &lt;dbl&gt; | ⋯ ⋯ | disk_octets_write_monthly_mean_delta &lt;dbl&gt; | disk_octets_read_monthly_mean_delta &lt;dbl&gt; | cpu_load_max_gradient &lt;dbl&gt; | disk_octets_read_max_gradient &lt;dbl&gt; | disk_octets_write_max_gradient &lt;dbl&gt; | disk_ops_read_max_gradient &lt;dbl&gt; | disk_ops_write_max_gradient &lt;dbl&gt; | network_rx_max_gradient &lt;dbl&gt; | network_tx_max_gradient &lt;dbl&gt; | is_churn &lt;dbl&gt; |\n|---|---|---|---|---|---|---|---|---|---|---|---|---|---|---|---|---|---|---|---|---|\n| 100 |  13.37989 | 38.82583205 |  0.1185140 | 336.69720430 |   6.770323 | 0.01612843 | 0.01171808 |  9.9354480 |  0.00178400 | ⋯ |  0.09822835 | 38.59628038 |  0.44565168 |  1.74435668 |  0.00463981 | 14.46249656 |  0.22755614 | -0.00003440 |  0.00005590 | 1 |\n| 101 |  16.90204 |  0.00328473 |  0.3360913 |   0.08150538 |   2.793979 | 0.04812798 | 0.44380426 | -3.9719014 | -0.14906840 | ⋯ | -0.00070227 | -0.01781286 | -0.00172695 | -0.00059626 | -0.00006430 | -0.00633933 | -0.00207351 |  0.00009500 | -0.00434225 | 0 |\n| 102 | 248.93591 | 19.37152776 | 31.9710273 | 213.16032260 | 194.558280 | 1.72831136 | 1.35480347 |  9.6749140 | -0.19059860 | ⋯ | -2.34339560 | -0.53592374 |  0.37335290 | -0.01865949 | -0.07624555 | -0.16357924 | -0.44157712 | -0.02173184 | -0.00538242 | 0 |\n| 103 |  14.05419 |  0.10182502 |  0.9970053 |   2.18870968 |   9.634839 | 0.08254686 | 0.00850134 | -0.8615287 | -0.00713390 | ⋯ |  0.05448654 | -0.07235670 | -0.03158981 | -0.00180007 |  0.00328335 | -0.20777508 |  0.01796263 |  0.00071597 | -0.00031719 | 1 |\n| 104 |  85.79333 | 15.49345957 | 14.8748231 | 280.23193550 |   9.595376 | 0.01669605 | 0.17150479 | -3.5555556 | -0.06342757 | ⋯ | -0.46046894 | -0.43877029 | -0.09440948 | -0.01649244 | -0.01788293 | -0.15304266 | -0.02211370 | -0.00011261 | -0.00242201 | 0 |\n| 105 |  39.39430 | 11.36519674 | 20.1531819 | 793.13655910 |  55.020000 | 9.81798408 | 2.11235768 | 14.8470789 |  1.93625702 | ⋯ | 17.10998272 |  7.60239588 |  0.39098123 |  0.24210812 |  0.54836924 | -4.40403032 |  0.19133439 |  0.24408652 |  0.02221419 | 0 |\n\n",
            "text/html": [
              "<table class=\"dataframe\">\n",
              "<caption>A tibble: 6 × 23</caption>\n",
              "<thead>\n",
              "\t<tr><th scope=col>id</th><th scope=col>cpu_load_mean_m_3</th><th scope=col>disk_octets_read_mean_m_3</th><th scope=col>disk_octets_write_mean_m_3</th><th scope=col>disk_ops_read_mean_m_3</th><th scope=col>disk_ops_write_mean_m_3</th><th scope=col>network_rx_mean_m_3</th><th scope=col>network_tx_mean_m_3</th><th scope=col>cpu_load_monthly_mean_delta</th><th scope=col>network_tx_monthly_mean_delta</th><th scope=col>⋯</th><th scope=col>disk_octets_write_monthly_mean_delta</th><th scope=col>disk_octets_read_monthly_mean_delta</th><th scope=col>cpu_load_max_gradient</th><th scope=col>disk_octets_read_max_gradient</th><th scope=col>disk_octets_write_max_gradient</th><th scope=col>disk_ops_read_max_gradient</th><th scope=col>disk_ops_write_max_gradient</th><th scope=col>network_rx_max_gradient</th><th scope=col>network_tx_max_gradient</th><th scope=col>is_churn</th></tr>\n",
              "\t<tr><th scope=col>&lt;dbl&gt;</th><th scope=col>&lt;dbl&gt;</th><th scope=col>&lt;dbl&gt;</th><th scope=col>&lt;dbl&gt;</th><th scope=col>&lt;dbl&gt;</th><th scope=col>&lt;dbl&gt;</th><th scope=col>&lt;dbl&gt;</th><th scope=col>&lt;dbl&gt;</th><th scope=col>&lt;dbl&gt;</th><th scope=col>&lt;dbl&gt;</th><th scope=col>⋯</th><th scope=col>&lt;dbl&gt;</th><th scope=col>&lt;dbl&gt;</th><th scope=col>&lt;dbl&gt;</th><th scope=col>&lt;dbl&gt;</th><th scope=col>&lt;dbl&gt;</th><th scope=col>&lt;dbl&gt;</th><th scope=col>&lt;dbl&gt;</th><th scope=col>&lt;dbl&gt;</th><th scope=col>&lt;dbl&gt;</th><th scope=col>&lt;dbl&gt;</th></tr>\n",
              "</thead>\n",
              "<tbody>\n",
              "\t<tr><td>100</td><td> 13.37989</td><td>38.82583205</td><td> 0.1185140</td><td>336.69720430</td><td>  6.770323</td><td>0.01612843</td><td>0.01171808</td><td> 9.9354480</td><td> 0.00178400</td><td>⋯</td><td> 0.09822835</td><td>38.59628038</td><td> 0.44565168</td><td> 1.74435668</td><td> 0.00463981</td><td>14.46249656</td><td> 0.22755614</td><td>-0.00003440</td><td> 0.00005590</td><td>1</td></tr>\n",
              "\t<tr><td>101</td><td> 16.90204</td><td> 0.00328473</td><td> 0.3360913</td><td>  0.08150538</td><td>  2.793979</td><td>0.04812798</td><td>0.44380426</td><td>-3.9719014</td><td>-0.14906840</td><td>⋯</td><td>-0.00070227</td><td>-0.01781286</td><td>-0.00172695</td><td>-0.00059626</td><td>-0.00006430</td><td>-0.00633933</td><td>-0.00207351</td><td> 0.00009500</td><td>-0.00434225</td><td>0</td></tr>\n",
              "\t<tr><td>102</td><td>248.93591</td><td>19.37152776</td><td>31.9710273</td><td>213.16032260</td><td>194.558280</td><td>1.72831136</td><td>1.35480347</td><td> 9.6749140</td><td>-0.19059860</td><td>⋯</td><td>-2.34339560</td><td>-0.53592374</td><td> 0.37335290</td><td>-0.01865949</td><td>-0.07624555</td><td>-0.16357924</td><td>-0.44157712</td><td>-0.02173184</td><td>-0.00538242</td><td>0</td></tr>\n",
              "\t<tr><td>103</td><td> 14.05419</td><td> 0.10182502</td><td> 0.9970053</td><td>  2.18870968</td><td>  9.634839</td><td>0.08254686</td><td>0.00850134</td><td>-0.8615287</td><td>-0.00713390</td><td>⋯</td><td> 0.05448654</td><td>-0.07235670</td><td>-0.03158981</td><td>-0.00180007</td><td> 0.00328335</td><td>-0.20777508</td><td> 0.01796263</td><td> 0.00071597</td><td>-0.00031719</td><td>1</td></tr>\n",
              "\t<tr><td>104</td><td> 85.79333</td><td>15.49345957</td><td>14.8748231</td><td>280.23193550</td><td>  9.595376</td><td>0.01669605</td><td>0.17150479</td><td>-3.5555556</td><td>-0.06342757</td><td>⋯</td><td>-0.46046894</td><td>-0.43877029</td><td>-0.09440948</td><td>-0.01649244</td><td>-0.01788293</td><td>-0.15304266</td><td>-0.02211370</td><td>-0.00011261</td><td>-0.00242201</td><td>0</td></tr>\n",
              "\t<tr><td>105</td><td> 39.39430</td><td>11.36519674</td><td>20.1531819</td><td>793.13655910</td><td> 55.020000</td><td>9.81798408</td><td>2.11235768</td><td>14.8470789</td><td> 1.93625702</td><td>⋯</td><td>17.10998272</td><td> 7.60239588</td><td> 0.39098123</td><td> 0.24210812</td><td> 0.54836924</td><td>-4.40403032</td><td> 0.19133439</td><td> 0.24408652</td><td> 0.02221419</td><td>0</td></tr>\n",
              "</tbody>\n",
              "</table>\n"
            ]
          },
          "metadata": {}
        }
      ]
    },
    {
      "cell_type": "code",
      "metadata": {
        "id": "yKmQPETcX-FO",
        "colab": {
          "base_uri": "https://localhost:8080/"
        },
        "outputId": "a9c3cd1b-5d5e-443b-ec82-628f9dbe40be"
      },
      "source": [
        "glimpse(vps)"
      ],
      "execution_count": 32,
      "outputs": [
        {
          "output_type": "stream",
          "name": "stdout",
          "text": [
            "Rows: 283\n",
            "Columns: 23\n",
            "$ id                                   \u001b[3m\u001b[90m<dbl>\u001b[39m\u001b[23m 100, 101, 102, 103, 104, 105, 106…\n",
            "$ cpu_load_mean_m_3                    \u001b[3m\u001b[90m<dbl>\u001b[39m\u001b[23m 13.379892, 16.902043, 248.935914,…\n",
            "$ disk_octets_read_mean_m_3            \u001b[3m\u001b[90m<dbl>\u001b[39m\u001b[23m 38.82583205, 0.00328473, 19.37152…\n",
            "$ disk_octets_write_mean_m_3           \u001b[3m\u001b[90m<dbl>\u001b[39m\u001b[23m 0.11851402, 0.33609133, 31.971027…\n",
            "$ disk_ops_read_mean_m_3               \u001b[3m\u001b[90m<dbl>\u001b[39m\u001b[23m 336.69720430, 0.08150538, 213.160…\n",
            "$ disk_ops_write_mean_m_3              \u001b[3m\u001b[90m<dbl>\u001b[39m\u001b[23m 6.770323, 2.793979, 194.558280, 9…\n",
            "$ network_rx_mean_m_3                  \u001b[3m\u001b[90m<dbl>\u001b[39m\u001b[23m 0.01612843, 0.04812798, 1.7283113…\n",
            "$ network_tx_mean_m_3                  \u001b[3m\u001b[90m<dbl>\u001b[39m\u001b[23m 0.01171808, 0.44380426, 1.3548034…\n",
            "$ cpu_load_monthly_mean_delta          \u001b[3m\u001b[90m<dbl>\u001b[39m\u001b[23m 9.93544803, -3.97190143, 9.674913…\n",
            "$ network_tx_monthly_mean_delta        \u001b[3m\u001b[90m<dbl>\u001b[39m\u001b[23m 0.00178400, -0.14906840, -0.19059…\n",
            "$ network_rx_monthly_mean_delta        \u001b[3m\u001b[90m<dbl>\u001b[39m\u001b[23m -0.00083925, 0.00761928, -0.33151…\n",
            "$ disk_ops_read_monthly_mean_delta     \u001b[3m\u001b[90m<dbl>\u001b[39m\u001b[23m 331.68498210, -0.18960574, -22.40…\n",
            "$ disk_ops_write_monthly_mean_delta    \u001b[3m\u001b[90m<dbl>\u001b[39m\u001b[23m 5.18743369, 0.16231183, -26.08083…\n",
            "$ disk_octets_write_monthly_mean_delta \u001b[3m\u001b[90m<dbl>\u001b[39m\u001b[23m 0.09822835, -0.00070227, -2.34339…\n",
            "$ disk_octets_read_monthly_mean_delta  \u001b[3m\u001b[90m<dbl>\u001b[39m\u001b[23m 38.59628038, -0.01781286, -0.5359…\n",
            "$ cpu_load_max_gradient                \u001b[3m\u001b[90m<dbl>\u001b[39m\u001b[23m 0.44565168, -0.00172695, 0.373352…\n",
            "$ disk_octets_read_max_gradient        \u001b[3m\u001b[90m<dbl>\u001b[39m\u001b[23m 1.74435668, -0.00059626, -0.01865…\n",
            "$ disk_octets_write_max_gradient       \u001b[3m\u001b[90m<dbl>\u001b[39m\u001b[23m 0.00463981, -0.00006430, -0.07624…\n",
            "$ disk_ops_read_max_gradient           \u001b[3m\u001b[90m<dbl>\u001b[39m\u001b[23m 14.46249656, -0.00633933, -0.1635…\n",
            "$ disk_ops_write_max_gradient          \u001b[3m\u001b[90m<dbl>\u001b[39m\u001b[23m 0.22755614, -0.00207351, -0.44157…\n",
            "$ network_rx_max_gradient              \u001b[3m\u001b[90m<dbl>\u001b[39m\u001b[23m -0.00003440, 0.00009500, -0.02173…\n",
            "$ network_tx_max_gradient              \u001b[3m\u001b[90m<dbl>\u001b[39m\u001b[23m 0.00005590, -0.00434225, -0.00538…\n",
            "$ is_churn                             \u001b[3m\u001b[90m<dbl>\u001b[39m\u001b[23m 1, 0, 0, 1, 0, 0, 0, 0, 0, 1, 1, …\n"
          ]
        }
      ]
    },
    {
      "cell_type": "code",
      "metadata": {
        "id": "c4ai5AzdX1b8",
        "colab": {
          "base_uri": "https://localhost:8080/",
          "height": 1000
        },
        "outputId": "9f9d5bf9-b507-4ff6-d25b-e63db4563392"
      },
      "source": [
        "summary(vps)"
      ],
      "execution_count": 33,
      "outputs": [
        {
          "output_type": "display_data",
          "data": {
            "text/plain": [
              "       id        cpu_load_mean_m_3  disk_octets_read_mean_m_3\n",
              " Min.   :100.0   Min.   :  0.3488   Min.   :  0.0000         \n",
              " 1st Qu.:170.5   1st Qu.:  8.9093   1st Qu.:  0.1488         \n",
              " Median :241.0   Median : 21.2846   Median :  1.2202         \n",
              " Mean   :241.0   Mean   : 31.5322   Mean   :  6.1031         \n",
              " 3rd Qu.:311.5   3rd Qu.: 48.1311   3rd Qu.:  4.5177         \n",
              " Max.   :382.0   Max.   :248.9359   Max.   :185.3404         \n",
              " disk_octets_write_mean_m_3 disk_ops_read_mean_m_3 disk_ops_write_mean_m_3\n",
              " Min.   :  0.0000           Min.   :   0.000       Min.   :   0.000       \n",
              " 1st Qu.:  0.5245           1st Qu.:   6.303       1st Qu.:   8.279       \n",
              " Median :  1.0526           Median :  48.461       Median :  17.186       \n",
              " Mean   :  3.2483           Mean   : 187.542       Mean   :  59.654       \n",
              " 3rd Qu.:  2.0462           3rd Qu.: 196.246       3rd Qu.:  48.508       \n",
              " Max.   :113.3633           Max.   :3062.753       Max.   :2100.976       \n",
              " network_rx_mean_m_3 network_tx_mean_m_3 cpu_load_monthly_mean_delta\n",
              " Min.   :  0.0000    Min.   :  0.00000   Min.   :-95.3851           \n",
              " 1st Qu.:  0.1094    1st Qu.:  0.03314   1st Qu.: -0.8162           \n",
              " Median :  0.3361    Median :  0.23136   Median :  0.3647           \n",
              " Mean   :  2.7290    Mean   :  4.58476   Mean   :  0.1752           \n",
              " 3rd Qu.:  0.6569    3rd Qu.:  1.27199   3rd Qu.:  2.1780           \n",
              " Max.   :192.0667    Max.   :309.02573   Max.   : 24.6725           \n",
              " network_tx_monthly_mean_delta network_rx_monthly_mean_delta\n",
              " Min.   :-10.467461            Min.   :-56.34854            \n",
              " 1st Qu.: -0.092727            1st Qu.: -0.06586            \n",
              " Median : -0.001936            Median :  0.00219            \n",
              " Mean   : -0.031338            Mean   : -0.05126            \n",
              " 3rd Qu.:  0.045352            3rd Qu.:  0.10020            \n",
              " Max.   : 13.872130            Max.   : 22.03269            \n",
              " disk_ops_read_monthly_mean_delta disk_ops_write_monthly_mean_delta\n",
              " Min.   :-2061.2128               Min.   :-1688.2755               \n",
              " 1st Qu.:   -3.8359               1st Qu.:   -1.5407               \n",
              " Median :    0.8522               Median :    0.5908               \n",
              " Mean   :   -1.8512               Mean   :   -4.9618               \n",
              " 3rd Qu.:   12.1653               3rd Qu.:    3.9460               \n",
              " Max.   :  700.8823               Max.   :  162.8555               \n",
              " disk_octets_write_monthly_mean_delta disk_octets_read_monthly_mean_delta\n",
              " Min.   :-9.15268                     Min.   :-33.50034                  \n",
              " 1st Qu.:-0.01532                     1st Qu.: -0.05945                  \n",
              " Median : 0.05940                     Median :  0.01966                  \n",
              " Mean   : 0.11364                     Mean   : -0.12690                  \n",
              " 3rd Qu.: 0.25222                     3rd Qu.:  0.30034                  \n",
              " Max.   :17.10998                     Max.   : 38.59628                  \n",
              " cpu_load_max_gradient disk_octets_read_max_gradient\n",
              " Min.   :-2.6916510    Min.   :-1.0245982           \n",
              " 1st Qu.:-0.0235366    1st Qu.:-0.0024172           \n",
              " Median : 0.0066592    Median : 0.0004572           \n",
              " Mean   : 0.0001246    Mean   : 0.0022031           \n",
              " 3rd Qu.: 0.0517550    3rd Qu.: 0.0086964           \n",
              " Max.   : 0.8901865    Max.   : 1.7443567           \n",
              " disk_octets_write_max_gradient disk_ops_read_max_gradient\n",
              " Min.   :-0.2867990             Min.   :-59.82482         \n",
              " 1st Qu.:-0.0009092             1st Qu.: -0.08414         \n",
              " Median : 0.0012018             Median :  0.02461         \n",
              " Mean   : 0.0032967             Mean   : -0.00979         \n",
              " 3rd Qu.: 0.0066244             3rd Qu.:  0.36047         \n",
              " Max.   : 0.5483692             Max.   : 18.80808         \n",
              " disk_ops_write_max_gradient network_rx_max_gradient network_tx_max_gradient\n",
              " Min.   :-50.36572           Min.   :-1.5876715      Min.   :-0.4009030     \n",
              " 1st Qu.: -0.03835           1st Qu.:-0.0023688      1st Qu.:-0.0024207     \n",
              " Median :  0.01796           Median : 0.0000393      Median :-0.0000381     \n",
              " Mean   : -0.14704           Mean   :-0.0034374      Mean   :-0.0010278     \n",
              " 3rd Qu.:  0.10348           3rd Qu.: 0.0020476      3rd Qu.: 0.0009950     \n",
              " Max.   :  6.42799           Max.   : 0.6859392      Max.   : 0.6760065     \n",
              "    is_churn    \n",
              " Min.   :0.000  \n",
              " 1st Qu.:0.000  \n",
              " Median :0.000  \n",
              " Mean   :0.477  \n",
              " 3rd Qu.:1.000  \n",
              " Max.   :1.000  "
            ]
          },
          "metadata": {}
        }
      ]
    },
    {
      "cell_type": "code",
      "metadata": {
        "id": "6MQxFFrSZw-Z"
      },
      "source": [
        "# first we split between training and testing sets\n",
        "split <- initial_split(vps, prop = 4/5)\n",
        "train <- training(split)\n",
        "test <- testing(split)\n",
        "\n",
        "# the we split the training set into validation and training\n",
        "split <- initial_split(train, prop = 4/5)\n",
        "train <- training(split)\n",
        "val <- testing(split)"
      ],
      "execution_count": 34,
      "outputs": []
    },
    {
      "cell_type": "code",
      "metadata": {
        "colab": {
          "base_uri": "https://localhost:8080/",
          "height": 35
        },
        "id": "52XDeOnedcr0",
        "outputId": "1582dafd-4328-4418-991b-0948dd07441e"
      },
      "source": [
        "nrow(train)"
      ],
      "execution_count": 35,
      "outputs": [
        {
          "output_type": "display_data",
          "data": {
            "text/plain": [
              "[1] 180"
            ],
            "text/latex": "180",
            "text/markdown": "180",
            "text/html": [
              "180"
            ]
          },
          "metadata": {}
        }
      ]
    },
    {
      "cell_type": "code",
      "metadata": {
        "colab": {
          "base_uri": "https://localhost:8080/",
          "height": 35
        },
        "id": "dlWXKqSeZ99f",
        "outputId": "4c6e08c1-a610-43b0-b30c-db64831a837b"
      },
      "source": [
        "nrow(val)"
      ],
      "execution_count": 36,
      "outputs": [
        {
          "output_type": "display_data",
          "data": {
            "text/plain": [
              "[1] 46"
            ],
            "text/latex": "46",
            "text/markdown": "46",
            "text/html": [
              "46"
            ]
          },
          "metadata": {}
        }
      ]
    },
    {
      "cell_type": "code",
      "metadata": {
        "colab": {
          "base_uri": "https://localhost:8080/",
          "height": 35
        },
        "id": "NRcbT2GKeV4y",
        "outputId": "9ca9f274-1c67-4cf2-a100-6c036cd4fcdc"
      },
      "source": [
        "nrow(test)"
      ],
      "execution_count": 37,
      "outputs": [
        {
          "output_type": "display_data",
          "data": {
            "text/plain": [
              "[1] 57"
            ],
            "text/latex": "57",
            "text/markdown": "57",
            "text/html": [
              "57"
            ]
          },
          "metadata": {}
        }
      ]
    },
    {
      "cell_type": "code",
      "metadata": {
        "id": "kTr6Qkj_eiHq"
      },
      "source": [
        "df_to_dataset <- function(df, shuffle = TRUE, batch_size = 32) {\n",
        "  ds <- df %>% \n",
        "    tensor_slices_dataset()\n",
        "  \n",
        "  if (shuffle)\n",
        "    ds <- ds %>% dataset_shuffle(buffer_size = nrow(df))\n",
        "  \n",
        "  ds %>% \n",
        "    dataset_batch(batch_size = batch_size)\n",
        "}"
      ],
      "execution_count": 38,
      "outputs": []
    },
    {
      "cell_type": "code",
      "metadata": {
        "id": "Kv0-j8POjkZT"
      },
      "source": [
        "batch_size <- 5\n",
        "train_ds <- df_to_dataset(train, batch_size = batch_size)\n",
        "val_ds <- df_to_dataset(val, shuffle = FALSE, batch_size = batch_size)\n",
        "test_ds <- df_to_dataset(test, shuffle = FALSE, batch_size = batch_size)"
      ],
      "execution_count": 39,
      "outputs": []
    },
    {
      "cell_type": "code",
      "metadata": {
        "colab": {
          "base_uri": "https://localhost:8080/"
        },
        "id": "udpiAYxg638o",
        "outputId": "5c7cfa31-980b-42f8-f6f5-41abc1e92ff0"
      },
      "source": [
        "train_ds %>% \n",
        "  reticulate::as_iterator() %>% \n",
        "  reticulate::iter_next() %>% \n",
        "  str()"
      ],
      "execution_count": 40,
      "outputs": [
        {
          "output_type": "stream",
          "name": "stdout",
          "text": [
            "List of 23\n",
            " $ id                                  :tf.Tensor([349. 266. 157. 262. 264.], shape=(5,), dtype=float32)\n",
            " $ cpu_load_mean_m_3                   :tf.Tensor([ 8.537527 15.264731 20.168064 83.51597  14.651398], shape=(5,), dtype=float32)\n",
            " $ disk_octets_read_mean_m_3           :tf.Tensor([0.22213995 1.5981306  0.02993515 0.2346888  1.4390609 ], shape=(5,), dtype=float32)\n",
            " $ disk_octets_write_mean_m_3          :tf.Tensor([0.47389224 0.3138418  1.134678   0.7990953  0.61957955], shape=(5,), dtype=float32)\n",
            " $ disk_ops_read_mean_m_3              :tf.Tensor([ 6.746559  39.5457     0.7310753  9.136774  71.5986   ], shape=(5,), dtype=float32)\n",
            " $ disk_ops_write_mean_m_3             :tf.Tensor([ 6.1587095  5.427097   4.5425806 18.745806   8.246559 ], shape=(5,), dtype=float32)\n",
            " $ network_rx_mean_m_3                 :tf.Tensor([0.49066585 0.577167   0.3074161  0.32085046 0.0421863 ], shape=(5,), dtype=float32)\n",
            " $ network_tx_mean_m_3                 :tf.Tensor([3.874355   1.4054006  4.9429984  0.04151946 0.38022974], shape=(5,), dtype=float32)\n",
            " $ cpu_load_monthly_mean_delta         :tf.Tensor([ 0.37552688 -1.2008244  -1.3626021  -1.3818656   2.7870646 ], shape=(5,), dtype=float32)\n",
            " $ network_tx_monthly_mean_delta       :tf.Tensor([-5.531734   -0.00854196  0.06888717 -0.03174984 -0.11879811], shape=(5,), dtype=float32)\n",
            " $ network_rx_monthly_mean_delta       :tf.Tensor([ 0.11030257  0.06852609 -0.04728843  0.04968242 -0.02589635], shape=(5,), dtype=float32)\n",
            " $ disk_ops_read_monthly_mean_delta    :tf.Tensor(\n",
            "[-2.3472219e+01 -1.1927746e+01  2.9641599e-03  2.5547743e+00\n",
            "  1.2608713e+01], shape=(5,), dtype=float32)\n",
            " $ disk_ops_write_monthly_mean_delta   :tf.Tensor([ 3.0664876  -0.65523654 -0.5807527   0.93680644  0.29967025], shape=(5,), dtype=float32)\n",
            " $ disk_octets_write_monthly_mean_delta:tf.Tensor([ 0.16359451 -0.02216537  0.03545222  0.06672885  0.09580897], shape=(5,), dtype=float32)\n",
            " $ disk_octets_read_monthly_mean_delta :tf.Tensor([-0.6815109  -0.30068535  0.00488083  0.01890947  0.2430376 ], shape=(5,), dtype=float32)\n",
            " $ cpu_load_max_gradient               :tf.Tensor([ 0.04802133 -0.10391891  0.07023374  0.00362145  0.05975075], shape=(5,), dtype=float32)\n",
            " $ disk_octets_read_max_gradient       :tf.Tensor([-0.00627872 -0.01695176  0.00010009  0.00045721  0.00694917], shape=(5,), dtype=float32)\n",
            " $ disk_octets_write_max_gradient      :tf.Tensor([ 0.00747004 -0.00123343  0.00179804  0.00355337  0.00192542], shape=(5,), dtype=float32)\n",
            " $ disk_ops_read_max_gradient          :tf.Tensor(\n",
            "[-2.4760339e-01 -5.3869611e-01  3.4902000e-04  3.6663670e-02\n",
            "  3.9736629e-01], shape=(5,), dtype=float32)\n",
            " $ disk_ops_write_max_gradient         :tf.Tensor([ 0.1301976  -0.02390305  0.00397215 -0.01076679  0.01566755], shape=(5,), dtype=float32)\n",
            " $ network_rx_max_gradient             :tf.Tensor([ 0.00488164  0.00047007 -0.00121335  0.00213628 -0.00051284], shape=(5,), dtype=float32)\n",
            " $ network_tx_max_gradient             :tf.Tensor([-0.06906605 -0.01678867  0.00514131 -0.00112887 -0.00258097], shape=(5,), dtype=float32)\n",
            " $ is_churn                            :tf.Tensor([0. 0. 1. 1. 0.], shape=(5,), dtype=float32)\n"
          ]
        }
      ]
    },
    {
      "cell_type": "code",
      "metadata": {
        "id": "mQ8bujzXjuxD"
      },
      "source": [
        "spec <- feature_spec(train_ds, is_churn ~ .)"
      ],
      "execution_count": 41,
      "outputs": []
    },
    {
      "cell_type": "code",
      "metadata": {
        "id": "C0w8QL6h8igY"
      },
      "source": [
        "spec <- spec %>% \n",
        "  step_numeric_column(\n",
        "    all_numeric(), \n",
        "    normalizer_fn = scaler_standard()\n",
        "  ) "
      ],
      "execution_count": 42,
      "outputs": []
    },
    {
      "cell_type": "code",
      "metadata": {
        "colab": {
          "base_uri": "https://localhost:8080/",
          "height": 159
        },
        "id": "Z-Zb07ED3yKt",
        "outputId": "ea137bd3-8434-43c2-d7c1-feb40a908543"
      },
      "source": [
        "spec"
      ],
      "execution_count": 43,
      "outputs": [
        {
          "output_type": "display_data",
          "data": {
            "text/plain": [
              "── Feature Spec ──────────────────────────────────────────────────────────────── \n",
              "\u001b[1mA feature_spec with 22 steps.\n",
              "\u001b[22m\u001b[1mFitted:\u001b[22m FALSE \n",
              "── Steps ─────────────────────────────────────────────────────────────────────── \n",
              "\u001b[1mStepNumericColumn\u001b[22m: id, cpu_load_mean_m_3, disk_octets_read_mean_m_3, disk_octets_write_mean_m_3, disk_ops_read_mean_m_3, disk_ops_write_mean_m_3, network_rx_mean_m_3, network_tx_mean_m_3, cpu_load_monthly_mean_delta, network_tx_monthly_mean_delta, network_rx_monthly_mean_delta, disk_ops_read_monthly_mean_delta, disk_ops_write_monthly_mean_delta, disk_octets_write_monthly_mean_delta, disk_octets_read_monthly_mean_delta, cpu_load_max_gradient, disk_octets_read_max_gradient, disk_octets_write_max_gradient, disk_ops_read_max_gradient, disk_ops_write_max_gradient, network_rx_max_gradient, network_tx_max_gradient \n",
              "── Dense features ────────────────────────────────────────────────────────────── \n",
              "Feature spec must be fitted before we can detect the dense features."
            ]
          },
          "metadata": {}
        }
      ]
    },
    {
      "cell_type": "code",
      "metadata": {
        "id": "aUtpo6BvsvWJ"
      },
      "source": [
        "spec_prep <- fit(spec)"
      ],
      "execution_count": 44,
      "outputs": []
    },
    {
      "cell_type": "code",
      "metadata": {
        "colab": {
          "base_uri": "https://localhost:8080/",
          "height": 159
        },
        "id": "xXnGuVvd4WUP",
        "outputId": "229b8d2c-8915-4069-c4d6-da7577e4d2db"
      },
      "source": [
        "spec_prep"
      ],
      "execution_count": 45,
      "outputs": [
        {
          "output_type": "display_data",
          "data": {
            "text/plain": [
              "── Feature Spec ──────────────────────────────────────────────────────────────── \n",
              "\u001b[1mA feature_spec with 22 steps.\n",
              "\u001b[22m\u001b[1mFitted:\u001b[22m TRUE \n",
              "── Steps ─────────────────────────────────────────────────────────────────────── \n",
              "The feature_spec has 1 dense features.\n",
              "\u001b[1mStepNumericColumn\u001b[22m: id, cpu_load_mean_m_3, disk_octets_read_mean_m_3, disk_octets_write_mean_m_3, disk_ops_read_mean_m_3, disk_ops_write_mean_m_3, network_rx_mean_m_3, network_tx_mean_m_3, cpu_load_monthly_mean_delta, network_tx_monthly_mean_delta, network_rx_monthly_mean_delta, disk_ops_read_monthly_mean_delta, disk_ops_write_monthly_mean_delta, disk_octets_write_monthly_mean_delta, disk_octets_read_monthly_mean_delta, cpu_load_max_gradient, disk_octets_read_max_gradient, disk_octets_write_max_gradient, disk_ops_read_max_gradient, disk_ops_write_max_gradient, network_rx_max_gradient, network_tx_max_gradient \n",
              "── Dense features ────────────────────────────────────────────────────────────── "
            ]
          },
          "metadata": {}
        }
      ]
    },
    {
      "cell_type": "code",
      "metadata": {
        "colab": {
          "base_uri": "https://localhost:8080/"
        },
        "id": "N5gG0BaGj5LT",
        "outputId": "7ec779d2-bd2c-401e-f5cd-c2f7e034649f"
      },
      "source": [
        "str(spec_prep$dense_features())"
      ],
      "execution_count": 46,
      "outputs": [
        {
          "output_type": "stream",
          "name": "stdout",
          "text": [
            "List of 22\n",
            " $ id                                  :NumericColumn(key='id', shape=(1,), default_value=None, dtype=tf.float32, normalizer_fn=<function make_python_function.<locals>.python_function at 0x7f19286a6320>)\n",
            " $ cpu_load_mean_m_3                   :NumericColumn(key='cpu_load_mean_m_3', shape=(1,), default_value=None, dtype=tf.float32, normalizer_fn=<function make_python_function.<locals>.python_function at 0x7f192c615830>)\n",
            " $ disk_octets_read_mean_m_3           :NumericColumn(key='disk_octets_read_mean_m_3', shape=(1,), default_value=None, dtype=tf.float32, normalizer_fn=<function make_python_function.<locals>.python_function at 0x7f192c615290>)\n",
            " $ disk_octets_write_mean_m_3          :NumericColumn(key='disk_octets_write_mean_m_3', shape=(1,), default_value=None, dtype=tf.float32, normalizer_fn=<function make_python_function.<locals>.python_function at 0x7f192c615680>)\n",
            " $ disk_ops_read_mean_m_3              :NumericColumn(key='disk_ops_read_mean_m_3', shape=(1,), default_value=None, dtype=tf.float32, normalizer_fn=<function make_python_function.<locals>.python_function at 0x7f192c615710>)\n",
            " $ disk_ops_write_mean_m_3             :NumericColumn(key='disk_ops_write_mean_m_3', shape=(1,), default_value=None, dtype=tf.float32, normalizer_fn=<function make_python_function.<locals>.python_function at 0x7f192c6150e0>)\n",
            " $ network_rx_mean_m_3                 :NumericColumn(key='network_rx_mean_m_3', shape=(1,), default_value=None, dtype=tf.float32, normalizer_fn=<function make_python_function.<locals>.python_function at 0x7f192c615320>)\n",
            " $ network_tx_mean_m_3                 :NumericColumn(key='network_tx_mean_m_3', shape=(1,), default_value=None, dtype=tf.float32, normalizer_fn=<function make_python_function.<locals>.python_function at 0x7f192c615170>)\n",
            " $ cpu_load_monthly_mean_delta         :NumericColumn(key='cpu_load_monthly_mean_delta', shape=(1,), default_value=None, dtype=tf.float32, normalizer_fn=<function make_python_function.<locals>.python_function at 0x7f192c6155f0>)\n",
            " $ network_tx_monthly_mean_delta       :NumericColumn(key='network_tx_monthly_mean_delta', shape=(1,), default_value=None, dtype=tf.float32, normalizer_fn=<function make_python_function.<locals>.python_function at 0x7f192c6159e0>)\n",
            " $ network_rx_monthly_mean_delta       :NumericColumn(key='network_rx_monthly_mean_delta', shape=(1,), default_value=None, dtype=tf.float32, normalizer_fn=<function make_python_function.<locals>.python_function at 0x7f192c615a70>)\n",
            " $ disk_ops_read_monthly_mean_delta    :NumericColumn(key='disk_ops_read_monthly_mean_delta', shape=(1,), default_value=None, dtype=tf.float32, normalizer_fn=<function make_python_function.<locals>.python_function at 0x7f192c615b90>)\n",
            " $ disk_ops_write_monthly_mean_delta   :NumericColumn(key='disk_ops_write_monthly_mean_delta', shape=(1,), default_value=None, dtype=tf.float32, normalizer_fn=<function make_python_function.<locals>.python_function at 0x7f192c615c20>)\n",
            " $ disk_octets_write_monthly_mean_delta:NumericColumn(key='disk_octets_write_monthly_mean_delta', shape=(1,), default_value=None, dtype=tf.float32, normalizer_fn=<function make_python_function.<locals>.python_function at 0x7f192c615b00>)\n",
            " $ disk_octets_read_monthly_mean_delta :NumericColumn(key='disk_octets_read_monthly_mean_delta', shape=(1,), default_value=None, dtype=tf.float32, normalizer_fn=<function make_python_function.<locals>.python_function at 0x7f192c615950>)\n",
            " $ cpu_load_max_gradient               :NumericColumn(key='cpu_load_max_gradient', shape=(1,), default_value=None, dtype=tf.float32, normalizer_fn=<function make_python_function.<locals>.python_function at 0x7f192c615cb0>)\n",
            " $ disk_octets_read_max_gradient       :NumericColumn(key='disk_octets_read_max_gradient', shape=(1,), default_value=None, dtype=tf.float32, normalizer_fn=<function make_python_function.<locals>.python_function at 0x7f192c615d40>)\n",
            " $ disk_octets_write_max_gradient      :NumericColumn(key='disk_octets_write_max_gradient', shape=(1,), default_value=None, dtype=tf.float32, normalizer_fn=<function make_python_function.<locals>.python_function at 0x7f192c615dd0>)\n",
            " $ disk_ops_read_max_gradient          :NumericColumn(key='disk_ops_read_max_gradient', shape=(1,), default_value=None, dtype=tf.float32, normalizer_fn=<function make_python_function.<locals>.python_function at 0x7f192c615e60>)\n",
            " $ disk_ops_write_max_gradient         :NumericColumn(key='disk_ops_write_max_gradient', shape=(1,), default_value=None, dtype=tf.float32, normalizer_fn=<function make_python_function.<locals>.python_function at 0x7f192c615ef0>)\n",
            " $ network_rx_max_gradient             :NumericColumn(key='network_rx_max_gradient', shape=(1,), default_value=None, dtype=tf.float32, normalizer_fn=<function make_python_function.<locals>.python_function at 0x7f192c615f80>)\n",
            " $ network_tx_max_gradient             :NumericColumn(key='network_tx_max_gradient', shape=(1,), default_value=None, dtype=tf.float32, normalizer_fn=<function make_python_function.<locals>.python_function at 0x7f192c60d050>)\n"
          ]
        }
      ]
    },
    {
      "cell_type": "code",
      "metadata": {
        "id": "IfncggcvkQa8"
      },
      "source": [
        "model <- keras_model_sequential() %>% \n",
        "  layer_dense_features(dense_features(spec_prep)) %>% \n",
        "  layer_dense(units = 32, activation = \"relu\") %>% \n",
        "  layer_dense(units = 1, activation = \"sigmoid\")\n",
        "\n",
        "\n",
        "model %>% compile(\n",
        "  loss = loss_binary_crossentropy, \n",
        "  optimizer = \"adam\", \n",
        "  metrics = \"binary_accuracy\"\n",
        ")\n"
      ],
      "execution_count": 47,
      "outputs": []
    },
    {
      "cell_type": "code",
      "metadata": {
        "id": "io7WMPBjlUrl"
      },
      "source": [
        "history <- model %>% \n",
        "  fit(\n",
        "    dataset_use_spec(train_ds, spec = spec_prep),\n",
        "    epochs = 15, \n",
        "    validation_data = dataset_use_spec(val_ds, spec_prep),\n",
        "    verbose = 2\n",
        "  )"
      ],
      "execution_count": 48,
      "outputs": []
    },
    {
      "cell_type": "code",
      "metadata": {
        "id": "JiewTaVSkC1k",
        "colab": {
          "base_uri": "https://localhost:8080/",
          "height": 472
        },
        "outputId": "a48b1655-a0f8-4207-8831-1012acde0073"
      },
      "source": [
        "plot(history)"
      ],
      "execution_count": 49,
      "outputs": [
        {
          "output_type": "stream",
          "name": "stderr",
          "text": [
            "`geom_smooth()` using formula 'y ~ x'\n",
            "\n"
          ]
        },
        {
          "output_type": "display_data",
          "data": {
            "image/png": "[encoded data removed]",
            "text/plain": [
              "plot without title"
            ]
          },
          "metadata": {
            "image/png": {
              "width": 420,
              "height": 420
            }
          }
        }
      ]
    },
    {
      "cell_type": "code",
      "metadata": {
        "colab": {
          "base_uri": "https://localhost:8080/",
          "height": 35
        },
        "id": "H4z5MBx7n-HG",
        "outputId": "50d91445-295a-440b-ac41-2fa3baf104b1"
      },
      "source": [
        "pred <- predict(model, test)\n",
        "Metrics::auc(test$is_churn, pred)"
      ],
      "execution_count": 50,
      "outputs": [
        {
          "output_type": "display_data",
          "data": {
            "text/plain": [
              "[1] 0.37625"
            ],
            "text/latex": "0.37625",
            "text/markdown": "0.37625",
            "text/html": [
              "0.37625"
            ]
          },
          "metadata": {}
        }
      ]
    }
  ]
}